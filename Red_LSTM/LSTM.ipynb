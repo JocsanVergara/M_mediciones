{
 "cells": [
  {
   "cell_type": "markdown",
   "metadata": {},
   "source": [
    "Importando librerias"
   ]
  },
  {
   "cell_type": "code",
   "execution_count": 75,
   "metadata": {},
   "outputs": [],
   "source": [
    "import numpy\n",
    "import matplotlib.pyplot as plt\n",
    "import pandas as pd\n",
    "#from pandas import read_csv\n",
    "import math\n",
    "import tensorflow as tf\n",
    "\n",
    "from keras.models import Sequential\n",
    "from keras.layers import Dense\n",
    "from keras.layers import LSTM\n",
    "from keras.layers import Dropout\n",
    "\n",
    "from sklearn.preprocessing import MinMaxScaler\n",
    "from sklearn.metrics import mean_squared_error"
   ]
  },
  {
   "cell_type": "markdown",
   "metadata": {},
   "source": [
    "Convertimos un array de valores en una matriz de conjuntos de datos"
   ]
  },
  {
   "cell_type": "code",
   "execution_count": 2,
   "metadata": {},
   "outputs": [],
   "source": [
    "# def create_dataset(dataset, look_back=1):\n",
    "#     dataX, dataY = [], []\n",
    "#     for i in range(len(dataset)-look_back-1):\n",
    "#         a = dataset[i:(i+look_back), 0]\n",
    "#         dataX.append(a)\n",
    "#         dataY.append(dataset[i + look_back, 0])\n",
    "#     return numpy.array(dataX), numpy.array(dataY)"
   ]
  },
  {
   "cell_type": "code",
   "execution_count": 2,
   "metadata": {},
   "outputs": [],
   "source": [
    "def create_dataset(X, y, times_steps=1):\n",
    "    Xs, ys = [], []\n",
    "    for i in range(len(X)-times_steps):\n",
    "        v = X.iloc[i:(i+times_steps)].values\n",
    "        Xs.append(v)\n",
    "        ys.append(y.iloc[i+times_steps])\n",
    "    return numpy.array(Xs), numpy.array(ys)"
   ]
  },
  {
   "cell_type": "markdown",
   "metadata": {},
   "source": [
    "Usamos una semilla aleatoria para poder reproducirlo nuevamente"
   ]
  },
  {
   "cell_type": "code",
   "execution_count": 3,
   "metadata": {},
   "outputs": [],
   "source": [
    "numpy.random.seed(7)"
   ]
  },
  {
   "cell_type": "markdown",
   "metadata": {},
   "source": [
    "Cargamos el conjunto de datos"
   ]
  },
  {
   "cell_type": "code",
   "execution_count": 4,
   "metadata": {},
   "outputs": [
    {
     "data": {
      "text/html": [
       "<div>\n",
       "<style scoped>\n",
       "    .dataframe tbody tr th:only-of-type {\n",
       "        vertical-align: middle;\n",
       "    }\n",
       "\n",
       "    .dataframe tbody tr th {\n",
       "        vertical-align: top;\n",
       "    }\n",
       "\n",
       "    .dataframe thead th {\n",
       "        text-align: right;\n",
       "    }\n",
       "</style>\n",
       "<table border=\"1\" class=\"dataframe\">\n",
       "  <thead>\n",
       "    <tr style=\"text-align: right;\">\n",
       "      <th></th>\n",
       "      <th>RSSI</th>\n",
       "      <th>Ang_azimuth</th>\n",
       "      <th>Ang_elevacion</th>\n",
       "      <th>Altura_ant(cm)</th>\n",
       "      <th>Distancia_entre_ant_tag(cm)</th>\n",
       "      <th>Error_dato_medido</th>\n",
       "    </tr>\n",
       "  </thead>\n",
       "  <tbody>\n",
       "    <tr>\n",
       "      <th>0</th>\n",
       "      <td>-60.0</td>\n",
       "      <td>-9.0</td>\n",
       "      <td>-12.0</td>\n",
       "      <td>134.0</td>\n",
       "      <td>30.0</td>\n",
       "      <td>0.0</td>\n",
       "    </tr>\n",
       "    <tr>\n",
       "      <th>1</th>\n",
       "      <td>-60.0</td>\n",
       "      <td>-8.0</td>\n",
       "      <td>-6.0</td>\n",
       "      <td>134.0</td>\n",
       "      <td>30.0</td>\n",
       "      <td>0.0</td>\n",
       "    </tr>\n",
       "    <tr>\n",
       "      <th>2</th>\n",
       "      <td>-56.0</td>\n",
       "      <td>-9.0</td>\n",
       "      <td>-12.0</td>\n",
       "      <td>134.0</td>\n",
       "      <td>30.0</td>\n",
       "      <td>0.0</td>\n",
       "    </tr>\n",
       "    <tr>\n",
       "      <th>3</th>\n",
       "      <td>-63.0</td>\n",
       "      <td>-9.0</td>\n",
       "      <td>-12.0</td>\n",
       "      <td>134.0</td>\n",
       "      <td>30.0</td>\n",
       "      <td>0.0</td>\n",
       "    </tr>\n",
       "    <tr>\n",
       "      <th>4</th>\n",
       "      <td>-59.0</td>\n",
       "      <td>-8.0</td>\n",
       "      <td>-6.0</td>\n",
       "      <td>134.0</td>\n",
       "      <td>30.0</td>\n",
       "      <td>0.0</td>\n",
       "    </tr>\n",
       "  </tbody>\n",
       "</table>\n",
       "</div>"
      ],
      "text/plain": [
       "   RSSI  Ang_azimuth  Ang_elevacion  Altura_ant(cm)  \\\n",
       "0 -60.0         -9.0          -12.0           134.0   \n",
       "1 -60.0         -8.0           -6.0           134.0   \n",
       "2 -56.0         -9.0          -12.0           134.0   \n",
       "3 -63.0         -9.0          -12.0           134.0   \n",
       "4 -59.0         -8.0           -6.0           134.0   \n",
       "\n",
       "   Distancia_entre_ant_tag(cm)  Error_dato_medido  \n",
       "0                         30.0                0.0  \n",
       "1                         30.0                0.0  \n",
       "2                         30.0                0.0  \n",
       "3                         30.0                0.0  \n",
       "4                         30.0                0.0  "
      ]
     },
     "execution_count": 4,
     "metadata": {},
     "output_type": "execute_result"
    }
   ],
   "source": [
    "# Si nuestro archivo csv que estamos leyendo esta separado por comas\n",
    "df_train = pd.read_csv(\".\\Entrenamiento\\Entrenamiento_f.csv\", encoding='utf-8', index_col = False, usecols = [3,4,5,8,9,11])\n",
    "\n",
    "# Corrige el error de lectura del archivo, pasa de string/objetc a float\n",
    "dataset = df_train.replace('[^\\d.]','', regex=True).astype(float) \n",
    "\n",
    "dataset.head()"
   ]
  },
  {
   "cell_type": "markdown",
   "metadata": {},
   "source": [
    "Normalizamos el conjunto de datos"
   ]
  },
  {
   "cell_type": "code",
   "execution_count": 38,
   "metadata": {},
   "outputs": [],
   "source": [
    "# scaler = MinMaxScaler(feature_range=(0, 1))\n",
    "# dataset = scaler.fit_transform(dataset)"
   ]
  },
  {
   "cell_type": "code",
   "execution_count": 5,
   "metadata": {},
   "outputs": [],
   "source": [
    "scaler = MinMaxScaler()\n",
    "scaler = scaler.fit(dataset)\n",
    "\n",
    "dataset[['RSSI','Ang_azimuth','Ang_elevacion','Altura_ant(cm)','Distancia_entre_ant_tag(cm)','Error_dato_medido']]=scaler.transform(dataset[['RSSI','Ang_azimuth','Ang_elevacion','Altura_ant(cm)','Distancia_entre_ant_tag(cm)','Error_dato_medido']])\n"
   ]
  },
  {
   "cell_type": "code",
   "execution_count": 6,
   "metadata": {},
   "outputs": [
    {
     "data": {
      "text/html": [
       "<div>\n",
       "<style scoped>\n",
       "    .dataframe tbody tr th:only-of-type {\n",
       "        vertical-align: middle;\n",
       "    }\n",
       "\n",
       "    .dataframe tbody tr th {\n",
       "        vertical-align: top;\n",
       "    }\n",
       "\n",
       "    .dataframe thead th {\n",
       "        text-align: right;\n",
       "    }\n",
       "</style>\n",
       "<table border=\"1\" class=\"dataframe\">\n",
       "  <thead>\n",
       "    <tr style=\"text-align: right;\">\n",
       "      <th></th>\n",
       "      <th>RSSI</th>\n",
       "      <th>Ang_azimuth</th>\n",
       "      <th>Ang_elevacion</th>\n",
       "      <th>Altura_ant(cm)</th>\n",
       "      <th>Distancia_entre_ant_tag(cm)</th>\n",
       "      <th>Error_dato_medido</th>\n",
       "    </tr>\n",
       "  </thead>\n",
       "  <tbody>\n",
       "    <tr>\n",
       "      <th>0</th>\n",
       "      <td>0.990273</td>\n",
       "      <td>0.536</td>\n",
       "      <td>0.322581</td>\n",
       "      <td>0.0</td>\n",
       "      <td>0.0</td>\n",
       "      <td>0.0</td>\n",
       "    </tr>\n",
       "    <tr>\n",
       "      <th>1</th>\n",
       "      <td>0.990273</td>\n",
       "      <td>0.544</td>\n",
       "      <td>0.370968</td>\n",
       "      <td>0.0</td>\n",
       "      <td>0.0</td>\n",
       "      <td>0.0</td>\n",
       "    </tr>\n",
       "    <tr>\n",
       "      <th>2</th>\n",
       "      <td>0.990911</td>\n",
       "      <td>0.536</td>\n",
       "      <td>0.322581</td>\n",
       "      <td>0.0</td>\n",
       "      <td>0.0</td>\n",
       "      <td>0.0</td>\n",
       "    </tr>\n",
       "    <tr>\n",
       "      <th>3</th>\n",
       "      <td>0.989794</td>\n",
       "      <td>0.536</td>\n",
       "      <td>0.322581</td>\n",
       "      <td>0.0</td>\n",
       "      <td>0.0</td>\n",
       "      <td>0.0</td>\n",
       "    </tr>\n",
       "    <tr>\n",
       "      <th>4</th>\n",
       "      <td>0.990432</td>\n",
       "      <td>0.544</td>\n",
       "      <td>0.370968</td>\n",
       "      <td>0.0</td>\n",
       "      <td>0.0</td>\n",
       "      <td>0.0</td>\n",
       "    </tr>\n",
       "  </tbody>\n",
       "</table>\n",
       "</div>"
      ],
      "text/plain": [
       "       RSSI  Ang_azimuth  Ang_elevacion  Altura_ant(cm)  \\\n",
       "0  0.990273        0.536       0.322581             0.0   \n",
       "1  0.990273        0.544       0.370968             0.0   \n",
       "2  0.990911        0.536       0.322581             0.0   \n",
       "3  0.989794        0.536       0.322581             0.0   \n",
       "4  0.990432        0.544       0.370968             0.0   \n",
       "\n",
       "   Distancia_entre_ant_tag(cm)  Error_dato_medido  \n",
       "0                          0.0                0.0  \n",
       "1                          0.0                0.0  \n",
       "2                          0.0                0.0  \n",
       "3                          0.0                0.0  \n",
       "4                          0.0                0.0  "
      ]
     },
     "execution_count": 6,
     "metadata": {},
     "output_type": "execute_result"
    }
   ],
   "source": [
    "dataset.head()\n"
   ]
  },
  {
   "cell_type": "markdown",
   "metadata": {},
   "source": [
    "Dividimos entre entranmiento y test"
   ]
  },
  {
   "cell_type": "code",
   "execution_count": 7,
   "metadata": {},
   "outputs": [],
   "source": [
    "train,test = dataset.loc[dataset.index <= 15000], dataset.loc[dataset.index > 15000]"
   ]
  },
  {
   "cell_type": "code",
   "execution_count": 1,
   "metadata": {},
   "outputs": [],
   "source": [
    "# train_size = int(len(dataset) * 0.67)\n",
    "# test_size = len(dataset) - train_size\n",
    "# train, test = dataset[0:train_size,:], dataset[train_size:len(dataset),:]"
   ]
  },
  {
   "cell_type": "code",
   "execution_count": 8,
   "metadata": {},
   "outputs": [
    {
     "name": "stdout",
     "output_type": "stream",
     "text": [
      "(14998, 3, 6) (14998,)\n"
     ]
    }
   ],
   "source": [
    "time_step = 3\n",
    "X_train, y_train = create_dataset(train,train['Distancia_entre_ant_tag(cm)'],time_step)\n",
    "X_test, y_test = create_dataset(test,test['Distancia_entre_ant_tag(cm)'],time_step)\n",
    "\n",
    "print(X_train.shape, y_train.shape)"
   ]
  },
  {
   "cell_type": "markdown",
   "metadata": {},
   "source": [
    "Remodelamos X=t y Y=t+1"
   ]
  },
  {
   "cell_type": "code",
   "execution_count": null,
   "metadata": {},
   "outputs": [],
   "source": [
    "# look_back = 3\n",
    "# trainX, trainY = create_dataset(train, look_back)\n",
    "# testX, testY = create_dataset(test, look_back)"
   ]
  },
  {
   "cell_type": "markdown",
   "metadata": {},
   "source": [
    "Remodelamos la entrada para que sea[muestras, pasos de tiempo, características]"
   ]
  },
  {
   "cell_type": "code",
   "execution_count": null,
   "metadata": {},
   "outputs": [],
   "source": [
    "# trainX = numpy.reshape(trainX, (trainX.shape[0], trainX.shape[1], 1))\n",
    "# testX = numpy.reshape(testX, (testX.shape[0], testX.shape[1], 1))"
   ]
  },
  {
   "cell_type": "markdown",
   "metadata": {},
   "source": [
    "Creamos la LSTM network"
   ]
  },
  {
   "cell_type": "code",
   "execution_count": 12,
   "metadata": {},
   "outputs": [],
   "source": [
    "# model = Sequential()\n",
    "# model.add(LSTM(4, input_shape=(X_train.shape[1],X_train.shape[2])))\n",
    "# model.add(Dense(1))\n",
    "# model.compile(loss='mean_squared_error', optimizer='adam')\n"
   ]
  },
  {
   "cell_type": "code",
   "execution_count": 160,
   "metadata": {},
   "outputs": [],
   "source": [
    "model = Sequential()\n",
    "model.add(LSTM(32, input_shape=(X_train.shape[1],X_train.shape[2])))\n",
    "model.add(Dense(16))\n",
    "model.add(Dropout(0.2))\n",
    "model.add(Dense(16))\n",
    "#model.compile(loss='mean_squared_error', optimizer='adam')\n",
    "\n",
    "#model.compile(optimizer='sgd', loss='mean_squared_error',metrics=['accuracy'])\n",
    "model.compile(optimizer='adam', loss='mean_squared_error',metrics=['accuracy'])"
   ]
  },
  {
   "cell_type": "code",
   "execution_count": 162,
   "metadata": {},
   "outputs": [
    {
     "data": {
      "text/plain": [
       "<keras.engine.sequential.Sequential at 0x200e948cc88>"
      ]
     },
     "execution_count": 162,
     "metadata": {},
     "output_type": "execute_result"
    }
   ],
   "source": [
    "model"
   ]
  },
  {
   "cell_type": "code",
   "execution_count": 161,
   "metadata": {},
   "outputs": [],
   "source": [
    "# Si no mejora lo vamos a desconectar\n",
    "callback = tf.keras.callbacks.EarlyStopping(monitor='loss', patience = 3)"
   ]
  },
  {
   "cell_type": "code",
   "execution_count": null,
   "metadata": {},
   "outputs": [],
   "source": [
    "# history = model.fit(X_train, y_train, epochs=10, batch_size=1, verbose = 1, validation_split=0.1, shuffle = False, callbacks =[callback])"
   ]
  },
  {
   "cell_type": "code",
   "execution_count": 163,
   "metadata": {},
   "outputs": [
    {
     "name": "stdout",
     "output_type": "stream",
     "text": [
      "Epoch 1/20\n",
      "1350/1350 [==============================] - 31s 10ms/step - loss: 0.0047 - accuracy: 0.0174 - val_loss: 0.0011 - val_accuracy: 0.0000e+00\n",
      "Epoch 2/20\n",
      "1350/1350 [==============================] - 16s 12ms/step - loss: 0.0051 - accuracy: 0.0116 - val_loss: 6.6416e-04 - val_accuracy: 0.0000e+00\n",
      "Epoch 3/20\n",
      "1350/1350 [==============================] - 13s 10ms/step - loss: 0.0047 - accuracy: 0.0107 - val_loss: 5.6105e-04 - val_accuracy: 0.0000e+00\n",
      "Epoch 4/20\n",
      "1350/1350 [==============================] - 12s 9ms/step - loss: 0.0047 - accuracy: 0.0076 - val_loss: 5.1388e-04 - val_accuracy: 0.0000e+00\n",
      "Epoch 5/20\n",
      "1350/1350 [==============================] - 11s 8ms/step - loss: 0.0041 - accuracy: 0.0067 - val_loss: 4.8928e-04 - val_accuracy: 0.0000e+00\n",
      "Epoch 6/20\n",
      "1350/1350 [==============================] - 14s 10ms/step - loss: 0.0032 - accuracy: 0.0087 - val_loss: 5.8277e-04 - val_accuracy: 0.0000e+00\n",
      "Epoch 7/20\n",
      "1350/1350 [==============================] - 11s 8ms/step - loss: 0.0026 - accuracy: 0.0134 - val_loss: 4.2160e-04 - val_accuracy: 0.0000e+00\n",
      "Epoch 8/20\n",
      "1350/1350 [==============================] - 12s 9ms/step - loss: 0.0023 - accuracy: 0.0097 - val_loss: 4.7531e-04 - val_accuracy: 0.0000e+00\n",
      "Epoch 9/20\n",
      "1350/1350 [==============================] - 14s 11ms/step - loss: 0.0021 - accuracy: 0.0138 - val_loss: 5.0958e-04 - val_accuracy: 0.0000e+00\n",
      "Epoch 10/20\n",
      "1350/1350 [==============================] - 14s 10ms/step - loss: 0.0021 - accuracy: 0.0168 - val_loss: 5.3439e-04 - val_accuracy: 0.0000e+00\n",
      "Epoch 11/20\n",
      "1350/1350 [==============================] - 14s 10ms/step - loss: 0.0021 - accuracy: 0.0185 - val_loss: 5.1438e-04 - val_accuracy: 0.0000e+00\n",
      "Epoch 12/20\n",
      "1350/1350 [==============================] - 16s 12ms/step - loss: 0.0021 - accuracy: 0.0111 - val_loss: 5.8336e-04 - val_accuracy: 0.0000e+00\n",
      "Epoch 13/20\n",
      "1350/1350 [==============================] - 16s 12ms/step - loss: 0.0020 - accuracy: 0.0142 - val_loss: 4.7318e-04 - val_accuracy: 0.0000e+00\n",
      "Epoch 14/20\n",
      "1350/1350 [==============================] - 16s 12ms/step - loss: 0.0020 - accuracy: 0.0170 - val_loss: 4.5603e-04 - val_accuracy: 0.0000e+00\n",
      "Epoch 15/20\n",
      "1350/1350 [==============================] - 13s 10ms/step - loss: 0.0020 - accuracy: 0.0217 - val_loss: 4.3026e-04 - val_accuracy: 0.0000e+00\n",
      "Epoch 16/20\n",
      "1350/1350 [==============================] - 13s 10ms/step - loss: 0.0020 - accuracy: 0.0158 - val_loss: 4.5352e-04 - val_accuracy: 0.0000e+00\n",
      "Epoch 17/20\n",
      "1350/1350 [==============================] - 13s 10ms/step - loss: 0.0021 - accuracy: 0.0188 - val_loss: 5.1361e-04 - val_accuracy: 0.0000e+00\n",
      "Epoch 18/20\n",
      "1350/1350 [==============================] - 14s 10ms/step - loss: 0.0020 - accuracy: 0.0130 - val_loss: 4.4946e-04 - val_accuracy: 0.0000e+00\n",
      "Epoch 19/20\n",
      "1350/1350 [==============================] - 13s 10ms/step - loss: 0.0020 - accuracy: 0.0179 - val_loss: 5.6115e-04 - val_accuracy: 0.0000e+00\n",
      "Epoch 20/20\n",
      "1350/1350 [==============================] - 13s 9ms/step - loss: 0.0020 - accuracy: 0.0179 - val_loss: 4.6987e-04 - val_accuracy: 0.0000e+00\n"
     ]
    }
   ],
   "source": [
    "history = model.fit(X_train, y_train, epochs=20, batch_size=10, verbose = 1, validation_split=0.1, shuffle = False, callbacks =[callback])"
   ]
  },
  {
   "cell_type": "code",
   "execution_count": 28,
   "metadata": {},
   "outputs": [],
   "source": [
    "model = loaded_model"
   ]
  },
  {
   "cell_type": "code",
   "execution_count": 164,
   "metadata": {},
   "outputs": [
    {
     "data": {
      "text/plain": [
       "<matplotlib.legend.Legend at 0x200d0aa50c8>"
      ]
     },
     "execution_count": 164,
     "metadata": {},
     "output_type": "execute_result"
    },
    {
     "data": {
      "image/png": "[encoded data removed]",
      "text/plain": [
       "<Figure size 640x480 with 1 Axes>"
      ]
     },
     "metadata": {},
     "output_type": "display_data"
    }
   ],
   "source": [
    "plt.plot(history.history['loss'],label='Training loss')\n",
    "plt.plot(history.history['val_loss'], label='Validation loss')\n",
    "plt.legend()"
   ]
  },
  {
   "cell_type": "code",
   "execution_count": 123,
   "metadata": {},
   "outputs": [
    {
     "data": {
      "text/plain": [
       "{'loss': [0.06036525219678879,\n",
       "  0.04218392074108124,\n",
       "  0.03160420432686806,\n",
       "  0.025003012269735336,\n",
       "  0.01966356672346592,\n",
       "  0.015615605749189854,\n",
       "  0.013411561027169228,\n",
       "  0.011177385225892067,\n",
       "  0.009684862568974495,\n",
       "  0.008652670308947563,\n",
       "  0.0076477183029055595,\n",
       "  0.007156455889344215,\n",
       "  0.006674138363450766,\n",
       "  0.00632833456620574,\n",
       "  0.006041232962161303,\n",
       "  0.005796343553811312,\n",
       "  0.005445634014904499,\n",
       "  0.005226022098213434,\n",
       "  0.005077381618320942,\n",
       "  0.005080093163996935],\n",
       " 'accuracy': [0.0028152319137007,\n",
       "  0.00792710017412901,\n",
       "  0.010297821834683418,\n",
       "  0.00963105633854866,\n",
       "  0.0112609276548028,\n",
       "  0.00963105633854866,\n",
       "  0.011705437675118446,\n",
       "  0.013261224143207073,\n",
       "  0.013631649315357208,\n",
       "  0.012298118323087692,\n",
       "  0.010742331854999065,\n",
       "  0.01148318313062191,\n",
       "  0.00963105633854866,\n",
       "  0.010297821834683418,\n",
       "  0.011186842806637287,\n",
       "  0.009482886642217636,\n",
       "  0.010223736986517906,\n",
       "  0.008742036297917366,\n",
       "  0.008742036297917366,\n",
       "  0.007778930012136698],\n",
       " 'val_loss': [0.0020671754609793425,\n",
       "  0.001473696087487042,\n",
       "  0.0011226419592276216,\n",
       "  0.0008707037777639925,\n",
       "  0.000666322186589241,\n",
       "  0.0006436901167035103,\n",
       "  0.0006523726042360067,\n",
       "  0.0006352499476633966,\n",
       "  0.0006244112155400217,\n",
       "  0.0006087062647566199,\n",
       "  0.0005659362650476396,\n",
       "  0.0005582869634963572,\n",
       "  0.0005358135094866157,\n",
       "  0.0005427050637081265,\n",
       "  0.0004630423500202596,\n",
       "  0.0004591955221258104,\n",
       "  0.0003955314459744841,\n",
       "  0.0003955899446737021,\n",
       "  0.0003876853734254837,\n",
       "  0.0003421487344894558],\n",
       " 'val_accuracy': [0.0,\n",
       "  0.0,\n",
       "  0.0,\n",
       "  0.0,\n",
       "  0.0,\n",
       "  0.0,\n",
       "  0.0,\n",
       "  0.0,\n",
       "  0.0,\n",
       "  0.0,\n",
       "  0.0,\n",
       "  0.0,\n",
       "  0.0,\n",
       "  0.0,\n",
       "  0.0,\n",
       "  0.0,\n",
       "  0.0,\n",
       "  0.0,\n",
       "  0.0,\n",
       "  0.0]}"
      ]
     },
     "execution_count": 123,
     "metadata": {},
     "output_type": "execute_result"
    }
   ],
   "source": [
    "history.history"
   ]
  },
  {
   "cell_type": "markdown",
   "metadata": {},
   "source": [
    "Hacemos las predicciones"
   ]
  },
  {
   "cell_type": "code",
   "execution_count": null,
   "metadata": {},
   "outputs": [],
   "source": [
    "# trainPredict = model.predict(trainX)\n",
    "# testPredict = model.predict(testX)"
   ]
  },
  {
   "cell_type": "code",
   "execution_count": 37,
   "metadata": {},
   "outputs": [
    {
     "data": {
      "text/plain": [
       "(14998, 3, 6)"
      ]
     },
     "execution_count": 37,
     "metadata": {},
     "output_type": "execute_result"
    }
   ],
   "source": [
    "X_train.shape"
   ]
  },
  {
   "cell_type": "code",
   "execution_count": 165,
   "metadata": {},
   "outputs": [
    {
     "name": "stdout",
     "output_type": "stream",
     "text": [
      "469/469 [==============================] - 4s 3ms/step\n",
      "180/180 [==============================] - 1s 3ms/step\n"
     ]
    }
   ],
   "source": [
    "trainPredict = model.predict(X_train)\n",
    "testPredict = model.predict(X_test)"
   ]
  },
  {
   "cell_type": "code",
   "execution_count": 158,
   "metadata": {},
   "outputs": [
    {
     "data": {
      "text/plain": [
       "(5750,)"
      ]
     },
     "execution_count": 158,
     "metadata": {},
     "output_type": "execute_result"
    }
   ],
   "source": [
    "testPredict[:,5].shape"
   ]
  },
  {
   "cell_type": "code",
   "execution_count": 168,
   "metadata": {},
   "outputs": [
    {
     "data": {
      "text/plain": [
       "<matplotlib.legend.Legend at 0x200bf941c88>"
      ]
     },
     "execution_count": 168,
     "metadata": {},
     "output_type": "execute_result"
    },
    {
     "data": {
      "image/png": "[encoded data removed]",
      "text/plain": [
       "<Figure size 640x480 with 1 Axes>"
      ]
     },
     "metadata": {},
     "output_type": "display_data"
    }
   ],
   "source": [
    "plt.plot(y_test,label='Real')\n",
    "plt.plot(testPredict[:,5], label='Predicted')\n",
    "plt.legend()"
   ]
  },
  {
   "cell_type": "code",
   "execution_count": 51,
   "metadata": {},
   "outputs": [],
   "source": [
    "model.save('Prediciones_1datos.h5')"
   ]
  },
  {
   "cell_type": "code",
   "execution_count": 151,
   "metadata": {},
   "outputs": [
    {
     "name": "stdout",
     "output_type": "stream",
     "text": [
      "Modelo guardado en el PC\n"
     ]
    }
   ],
   "source": [
    "# Serializa el modelo para JSON\n",
    "model_JSON = model.to_json()\n",
    "name_json = \"model.json\"\n",
    "with open(name_json, \"w\") as json_file:\n",
    "    json_file.write(model_JSON)\n",
    "\n",
    "# Serializar los pesos (weights) para HDF5\n",
    "model.save_weights(\"model.h5\")\n",
    "print(\"Modelo guardado en el PC\")"
   ]
  },
  {
   "cell_type": "code",
   "execution_count": 115,
   "metadata": {},
   "outputs": [
    {
     "ename": "FileNotFoundError",
     "evalue": "[Errno 2] No such file or directory: 'model.json'",
     "output_type": "error",
     "traceback": [
      "\u001b[1;31m---------------------------------------------------------------------------\u001b[0m",
      "\u001b[1;31mFileNotFoundError\u001b[0m                         Traceback (most recent call last)",
      "\u001b[1;32m~\\AppData\\Local\\Temp\\ipykernel_14296\\1257095770.py\u001b[0m in \u001b[0;36m<module>\u001b[1;34m\u001b[0m\n\u001b[0;32m      5\u001b[0m \u001b[1;33m\u001b[0m\u001b[0m\n\u001b[0;32m      6\u001b[0m \u001b[1;31m# carga el json y crea el modelo\u001b[0m\u001b[1;33m\u001b[0m\u001b[1;33m\u001b[0m\u001b[1;33m\u001b[0m\u001b[0m\n\u001b[1;32m----> 7\u001b[1;33m \u001b[0mjson_file\u001b[0m \u001b[1;33m=\u001b[0m \u001b[0mopen\u001b[0m\u001b[1;33m(\u001b[0m\u001b[0mname_json\u001b[0m\u001b[1;33m,\u001b[0m\u001b[1;34m'r'\u001b[0m\u001b[1;33m)\u001b[0m\u001b[1;33m\u001b[0m\u001b[1;33m\u001b[0m\u001b[0m\n\u001b[0m\u001b[0;32m      8\u001b[0m \u001b[0mloaded_model_json\u001b[0m \u001b[1;33m=\u001b[0m \u001b[0mjson_file\u001b[0m\u001b[1;33m.\u001b[0m\u001b[0mread\u001b[0m\u001b[1;33m(\u001b[0m\u001b[1;33m)\u001b[0m\u001b[1;33m\u001b[0m\u001b[1;33m\u001b[0m\u001b[0m\n\u001b[0;32m      9\u001b[0m \u001b[0mjson_file\u001b[0m\u001b[1;33m.\u001b[0m\u001b[0mclose\u001b[0m\u001b[1;33m(\u001b[0m\u001b[1;33m)\u001b[0m\u001b[1;33m\u001b[0m\u001b[1;33m\u001b[0m\u001b[0m\n",
      "\u001b[1;31mFileNotFoundError\u001b[0m: [Errno 2] No such file or directory: 'model.json'"
     ]
    }
   ],
   "source": [
    "# Modelo guardado en el PC\n",
    "from keras.models import model_from_json\n",
    "\n",
    "name_json = \"model.json\"\n",
    "\n",
    "# carga el json y crea el modelo\n",
    "json_file = open(name_json,'r')\n",
    "loaded_model_json = json_file.read()\n",
    "json_file.close()\n",
    "\n",
    "loaded_model = model_from_json(loaded_model_json)\n",
    "# se cargan los pesos (weights) en el nuevo modelo\n",
    "model = loaded_model.load_weights(\"model.h5\")\n",
    "print(\"Modelo cargado desde el PC\")\n",
    "# se evalua el modelo cargado con los datos de los test"
   ]
  },
  {
   "cell_type": "code",
   "execution_count": 19,
   "metadata": {},
   "outputs": [
    {
     "name": "stdout",
     "output_type": "stream",
     "text": [
      "Model: \"sequential_6\"\n",
      "_________________________________________________________________\n",
      " Layer (type)                Output Shape              Param #   \n",
      "=================================================================\n",
      " lstm_6 (LSTM)               (None, 4)                 176       \n",
      "                                                                 \n",
      " dense_6 (Dense)             (None, 1)                 5         \n",
      "                                                                 \n",
      "=================================================================\n",
      "Total params: 181\n",
      "Trainable params: 181\n",
      "Non-trainable params: 0\n",
      "_________________________________________________________________\n"
     ]
    }
   ],
   "source": [
    "loaded_model.summary()"
   ]
  },
  {
   "cell_type": "code",
   "execution_count": 53,
   "metadata": {},
   "outputs": [
    {
     "name": "stdout",
     "output_type": "stream",
     "text": [
      "Model Saved!\n",
      "Model: \"sequential_6\"\n",
      "_________________________________________________________________\n",
      " Layer (type)                Output Shape              Param #   \n",
      "=================================================================\n",
      " lstm_6 (LSTM)               (None, 4)                 176       \n",
      "                                                                 \n",
      " dense_6 (Dense)             (None, 1)                 5         \n",
      "                                                                 \n",
      "=================================================================\n",
      "Total params: 181\n",
      "Trainable params: 181\n",
      "Non-trainable params: 0\n",
      "_________________________________________________________________\n"
     ]
    }
   ],
   "source": [
    "# saving and loading the .h5 model\n",
    "\n",
    "from keras.models import load_model\n",
    "\n",
    "# save model\n",
    "model.save('gfgModel.h5')\n",
    "print('Model Saved!')\n",
    " \n",
    "# load model\n",
    "savedModel=load_model('gfgModel.h5')\n",
    "savedModel.summary()"
   ]
  },
  {
   "cell_type": "code",
   "execution_count": 54,
   "metadata": {},
   "outputs": [
    {
     "name": "stdout",
     "output_type": "stream",
     "text": [
      "Model Saved!\n",
      "Model Loaded!\n"
     ]
    }
   ],
   "source": [
    "# saving and loading the model weights\n",
    " \n",
    "# save model\n",
    "model.save_weights('gfgModelWeights')\n",
    "print('Model Saved!')\n",
    " \n",
    "# load model\n",
    "savedModel = model.load_weights('gfgModelWeights')\n",
    "print('Model Loaded!')"
   ]
  },
  {
   "cell_type": "code",
   "execution_count": 56,
   "metadata": {},
   "outputs": [
    {
     "data": {
      "text/plain": [
       "<tensorflow.python.training.tracking.util.CheckpointLoadStatus at 0x1a56e646c08>"
      ]
     },
     "execution_count": 56,
     "metadata": {},
     "output_type": "execute_result"
    }
   ],
   "source": [
    "savedModel"
   ]
  },
  {
   "cell_type": "code",
   "execution_count": null,
   "metadata": {},
   "outputs": [],
   "source": [
    "# saving and loading the .h5 model\n",
    " \n",
    "# save model\n",
    "model.save_weights('gfgModelWeights.h5')\n",
    "print('Model Saved!')\n",
    " \n",
    "# load model\n",
    "savedModel = model.load_weights('gfgModelWeights.h5')\n",
    "print('Model Loaded!')"
   ]
  },
  {
   "cell_type": "code",
   "execution_count": 169,
   "metadata": {},
   "outputs": [
    {
     "data": {
      "image/png": "[encoded data removed]",
      "text/plain": [
       "<Figure size 640x480 with 1 Axes>"
      ]
     },
     "metadata": {},
     "output_type": "display_data"
    }
   ],
   "source": [
    "plt.plot(history.history['accuracy'],'bo')\n",
    "plt.plot(history.history['val_accuracy'],'rX')\n",
    "plt.title('model accuracy')\n",
    "plt.ylabel('accuracy')\n",
    "plt.xlabel('epoch')\n",
    "plt.legend(['train','test'],loc='upper left')\n",
    "plt.grid()\n",
    "plt.show()\n"
   ]
  },
  {
   "cell_type": "code",
   "execution_count": 170,
   "metadata": {},
   "outputs": [
    {
     "data": {
      "image/png": "[encoded data removed]",
      "text/plain": [
       "<Figure size 640x480 with 1 Axes>"
      ]
     },
     "metadata": {},
     "output_type": "display_data"
    }
   ],
   "source": [
    "plt.plot(history.history['accuracy'])\n",
    "plt.plot(history.history['val_accuracy'])\n",
    "plt.title('model accuracy')\n",
    "plt.ylabel('accuracy')\n",
    "plt.xlabel('epoch')\n",
    "plt.legend(['train','test'],loc='upper left')\n",
    "plt.grid()\n",
    "plt.show()"
   ]
  },
  {
   "cell_type": "markdown",
   "metadata": {},
   "source": [
    "Invertimos las predicciones"
   ]
  },
  {
   "cell_type": "code",
   "execution_count": 129,
   "metadata": {},
   "outputs": [],
   "source": [
    "# trainPredict.shape\n",
    "# trainPredict = model.predict(X_train)\n",
    "# testPredict = model.predict(X_test)\n",
    "\n",
    "scaler2 = MinMaxScaler()\n",
    "scaler2.min_,scaler2.scale_ = scaler.min_[4],scaler.scale_[4]\n"
   ]
  },
  {
   "cell_type": "code",
   "execution_count": 171,
   "metadata": {},
   "outputs": [],
   "source": [
    "trainPredict = scaler2.inverse_transform(trainPredict)\n",
    "trainY = scaler2.inverse_transform([y_train])\n",
    "testPredict = scaler2.inverse_transform(testPredict)\n",
    "testY = scaler2.inverse_transform([y_test])"
   ]
  },
  {
   "cell_type": "code",
   "execution_count": 65,
   "metadata": {},
   "outputs": [
    {
     "data": {
      "text/plain": [
       "(1, 5750)"
      ]
     },
     "execution_count": 65,
     "metadata": {},
     "output_type": "execute_result"
    }
   ],
   "source": [
    "testY.shape"
   ]
  },
  {
   "cell_type": "code",
   "execution_count": 172,
   "metadata": {},
   "outputs": [],
   "source": [
    "testY_1 = numpy.transpose(testY)"
   ]
  },
  {
   "cell_type": "code",
   "execution_count": 173,
   "metadata": {},
   "outputs": [
    {
     "data": {
      "text/plain": [
       "<matplotlib.legend.Legend at 0x200be274808>"
      ]
     },
     "execution_count": 173,
     "metadata": {},
     "output_type": "execute_result"
    },
    {
     "data": {
      "image/png": "[encoded data removed]",
      "text/plain": [
       "<Figure size 640x480 with 1 Axes>"
      ]
     },
     "metadata": {},
     "output_type": "display_data"
    }
   ],
   "source": [
    "plt.plot(testY_1,label='Real')\n",
    "plt.plot(testPredict[:,5], label='Predicted')\n",
    "plt.legend()"
   ]
  },
  {
   "cell_type": "code",
   "execution_count": 46,
   "metadata": {},
   "outputs": [
    {
     "data": {
      "text/plain": [
       "(1, 5750)"
      ]
     },
     "execution_count": 46,
     "metadata": {},
     "output_type": "execute_result"
    }
   ],
   "source": [
    "testY.shape"
   ]
  },
  {
   "cell_type": "markdown",
   "metadata": {},
   "source": [
    "Calculamos el error rms"
   ]
  },
  {
   "cell_type": "code",
   "execution_count": 148,
   "metadata": {},
   "outputs": [
    {
     "name": "stdout",
     "output_type": "stream",
     "text": [
      "Resultado del entrenamiento: 6.54 RMSE\n",
      "Resultado del test: 6.76 RMSE\n"
     ]
    }
   ],
   "source": [
    "trainScore = math.sqrt(mean_squared_error(trainY[0], trainPredict[:,0]))\n",
    "print('Resultado del entrenamiento: %.2f RMSE' % (trainScore))\n",
    "testScore = math.sqrt(mean_squared_error(testY[0], testPredict[:,0]))\n",
    "print('Resultado del test: %.2f RMSE' % (testScore))"
   ]
  },
  {
   "cell_type": "markdown",
   "metadata": {},
   "source": [
    "Predicciones del entrenamiento de cambio para plotear"
   ]
  },
  {
   "cell_type": "code",
   "execution_count": 48,
   "metadata": {},
   "outputs": [],
   "source": [
    "look_back = X_train.shape[1]"
   ]
  },
  {
   "cell_type": "code",
   "execution_count": 49,
   "metadata": {},
   "outputs": [],
   "source": [
    "trainPredictPlot = numpy.empty_like(dataset)\n",
    "trainPredictPlot[:, :] = numpy.nan\n",
    "trainPredictPlot[look_back:len(trainPredict)+look_back, :] = trainPredict"
   ]
  },
  {
   "cell_type": "markdown",
   "metadata": {},
   "source": [
    "Predicciones del test de cambio para plotear"
   ]
  },
  {
   "cell_type": "code",
   "execution_count": 56,
   "metadata": {},
   "outputs": [
    {
     "ename": "ValueError",
     "evalue": "could not broadcast input array from shape (5750,1) into shape (5748,6)",
     "output_type": "error",
     "traceback": [
      "\u001b[1;31m---------------------------------------------------------------------------\u001b[0m",
      "\u001b[1;31mValueError\u001b[0m                                Traceback (most recent call last)",
      "\u001b[1;32m~\\AppData\\Local\\Temp\\ipykernel_14296\\2565587404.py\u001b[0m in \u001b[0;36m<module>\u001b[1;34m\u001b[0m\n\u001b[0;32m      1\u001b[0m \u001b[0mtestPredictPlot\u001b[0m \u001b[1;33m=\u001b[0m \u001b[0mnumpy\u001b[0m\u001b[1;33m.\u001b[0m\u001b[0mempty_like\u001b[0m\u001b[1;33m(\u001b[0m\u001b[0mdataset\u001b[0m\u001b[1;33m)\u001b[0m\u001b[1;33m\u001b[0m\u001b[1;33m\u001b[0m\u001b[0m\n\u001b[0;32m      2\u001b[0m \u001b[0mtestPredictPlot\u001b[0m\u001b[1;33m[\u001b[0m\u001b[1;33m:\u001b[0m\u001b[1;33m,\u001b[0m \u001b[1;33m:\u001b[0m\u001b[1;33m]\u001b[0m \u001b[1;33m=\u001b[0m \u001b[0mnumpy\u001b[0m\u001b[1;33m.\u001b[0m\u001b[0mnan\u001b[0m\u001b[1;33m\u001b[0m\u001b[1;33m\u001b[0m\u001b[0m\n\u001b[1;32m----> 3\u001b[1;33m \u001b[0mtestPredictPlot\u001b[0m\u001b[1;33m[\u001b[0m\u001b[0mlen\u001b[0m\u001b[1;33m(\u001b[0m\u001b[0mtrainPredict\u001b[0m\u001b[1;33m)\u001b[0m\u001b[1;33m+\u001b[0m\u001b[1;33m(\u001b[0m\u001b[0mlook_back\u001b[0m\u001b[1;33m*\u001b[0m\u001b[1;36m2\u001b[0m\u001b[1;33m)\u001b[0m\u001b[1;33m+\u001b[0m\u001b[1;36m1\u001b[0m\u001b[1;33m:\u001b[0m\u001b[0mlen\u001b[0m\u001b[1;33m(\u001b[0m\u001b[0mdataset\u001b[0m\u001b[1;33m)\u001b[0m\u001b[1;33m-\u001b[0m\u001b[1;36m1\u001b[0m\u001b[1;33m,\u001b[0m \u001b[1;33m:\u001b[0m\u001b[1;33m]\u001b[0m \u001b[1;33m=\u001b[0m \u001b[0mtestPredict\u001b[0m\u001b[1;33m\u001b[0m\u001b[1;33m\u001b[0m\u001b[0m\n\u001b[0m",
      "\u001b[1;31mValueError\u001b[0m: could not broadcast input array from shape (5750,1) into shape (5748,6)"
     ]
    }
   ],
   "source": [
    "testPredictPlot = numpy.empty_like(dataset)\n",
    "testPredictPlot[:, :] = numpy.nan\n",
    "testPredictPlot[len(trainPredict)+(look_back*2)+1:len(dataset)-1, :] = testPredict"
   ]
  },
  {
   "cell_type": "markdown",
   "metadata": {},
   "source": [
    "Plot baseline and predictions"
   ]
  },
  {
   "cell_type": "code",
   "execution_count": 51,
   "metadata": {},
   "outputs": [
    {
     "data": {
      "text/plain": [
       "[<matplotlib.lines.Line2D at 0x2008f5292c8>,\n",
       " <matplotlib.lines.Line2D at 0x2008f5296c8>,\n",
       " <matplotlib.lines.Line2D at 0x2008f531c88>,\n",
       " <matplotlib.lines.Line2D at 0x2008f531e88>,\n",
       " <matplotlib.lines.Line2D at 0x2008f5380c8>,\n",
       " <matplotlib.lines.Line2D at 0x2008f5382c8>]"
      ]
     },
     "execution_count": 51,
     "metadata": {},
     "output_type": "execute_result"
    },
    {
     "data": {
      "image/png": "[encoded data removed]",
      "text/plain": [
       "<Figure size 640x480 with 1 Axes>"
      ]
     },
     "metadata": {},
     "output_type": "display_data"
    }
   ],
   "source": [
    "plt.plot(scaler.inverse_transform(dataset))"
   ]
  },
  {
   "cell_type": "markdown",
   "metadata": {},
   "source": [
    "Ploteamos linea base y predicciones"
   ]
  },
  {
   "cell_type": "code",
   "execution_count": 52,
   "metadata": {},
   "outputs": [
    {
     "data": {
      "image/png": "[encoded data removed]",
      "text/plain": [
       "<Figure size 640x480 with 1 Axes>"
      ]
     },
     "metadata": {},
     "output_type": "display_data"
    }
   ],
   "source": [
    "plt.plot(trainPredictPlot,'r', linewidth = 2)\n",
    "plt.plot(testPredictPlot,'m', linewidth = 2)\n",
    "plt.legend( ('Datos', 'Prediccion datos entramiento', 'Prediccion sobre los datos de test'), loc = 'upper left')\n",
    "plt.grid(True)\n",
    "plt.title(\"Datos sobre pasajeros por mes desde 1949 a 1960\", fontsize = 15)\n",
    "plt.xlabel(\"Tiempo (nº meses)\", fontsize = 10)\n",
    "plt.ylabel(\"nº de pasajeros\", fontsize = 10)\n",
    "plt.show()"
   ]
  }
 ],
 "metadata": {
  "kernelspec": {
   "display_name": "Python 3.10.7 64-bit",
   "language": "python",
   "name": "python3"
  },
  "language_info": {
   "codemirror_mode": {
    "name": "ipython",
    "version": 3
   },
   "file_extension": ".py",
   "mimetype": "text/x-python",
   "name": "python",
   "nbconvert_exporter": "python",
   "pygments_lexer": "ipython3",
   "version": "3.10.7"
  },
  "orig_nbformat": 4,
  "vscode": {
   "interpreter": {
    "hash": "62b0f814e3323bf99b65e04ba38e27228b02227d4c0e0c442ded2babf0741dcc"
   }
  }
 },
 "nbformat": 4,
 "nbformat_minor": 2
}
