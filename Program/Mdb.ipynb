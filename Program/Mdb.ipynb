{
 "cells": [
  {
   "cell_type": "code",
   "execution_count": 111,
   "metadata": {},
   "outputs": [
    {
     "name": "stdout",
     "output_type": "stream",
     "text": [
      "~~~~~~~~~~~~~~~~~~~~~~~~~~~~~~~~~~~~~~~~~~~~~~~~~~\n",
      "{'_id': ObjectId('638988fd2ebaa36246298d9a'), 'hora': '2022/12/02/ 02:11:24', 'Id_tag': ':CCF957966AC9', 'Id_ant': 'PID=0403:6015 SER=D200C017A', 'RSSI': -61, 'Ang_azimuth': -14, 'Ang_elevacion': -30, 'Canal': 39, 'Altura_ant': 170, 'Distancia_ant_tag': 234.82802257050835}\n",
      "{'_id': ObjectId('638988fdaa93389af5f2934a'), 'hora': '2022/12/02/ 02:11:24', 'Id_tag': ':CCF957966AC9', 'Id_ant': 'PID=0403:6015 SER=D200BZVHA', 'RSSI': -59, 'Ang_azimuth': 33, 'Ang_elevacion': -16, 'Canal': 39, 'Altura_ant': 170, 'Distancia_ant_tag': 202.97250181094725}\n",
      "~~~~~~~~~~~~~~~~~~~~~~~~~~~~~~~~~~~~~~~~~~~~~~~~~~\n",
      "{'_id': ObjectId('638988fd2ebaa36246298d98'), 'hora': '2022/12/02/ 02:11:24', 'Id_tag': ':CCF957966B2C', 'Id_ant': 'PID=0403:6015 SER=D200C017A', 'RSSI': -62, 'Ang_azimuth': -46, 'Ang_elevacion': -12, 'Canal': 37, 'Altura_ant': 170, 'Distancia_ant_tag': 314.6781062635961}\n",
      "{'_id': ObjectId('638988fdaa93389af5f29348'), 'hora': '2022/12/02/ 02:11:24', 'Id_tag': ':CCF957966B2C', 'Id_ant': 'PID=0403:6015 SER=D200BZVHA', 'RSSI': -56, 'Ang_azimuth': -23, 'Ang_elevacion': 6, 'Canal': 38, 'Altura_ant': 170, 'Distancia_ant_tag': 416.98586875080423}\n",
      "1536\n",
      "1536\n",
      "~~~~~~~~~~~~~~~~~~~~~~~~~~~~~~~~~~~~~~~~~~~~~~~~~~\n",
      "<class 'list'>\n",
      "<class 'list'>\n"
     ]
    }
   ],
   "source": [
    "import pymongo\n",
    "import servidor_mongo as SM\n",
    "import json\n",
    "from bson.objectid import ObjectId\n",
    "from datetime import datetime, timedelta\n",
    "import utils\n",
    "import time\n",
    "\n",
    "import tensorflow as tf\n",
    "# Importamos la librería de pandas\n",
    "import pandas as pd\n",
    "import re\n",
    "import matplotlib as plt\n",
    "import numpy as np\n",
    "from sklearn.preprocessing import MinMaxScaler, StandardScaler\n",
    "\n",
    "import pandas as pd\n",
    "\n",
    "## Nota: Una variable importante que de no estar almacenada debe darse de igual manera es la distancia entre la antena y el tag -> debería ser un dato almacenado\n",
    "\n",
    "## Debe estar en centimetros 158\n",
    "D_ant_tag = 177 \n",
    "\n",
    "## Leemos el json con los datos de las antenas y el tag\n",
    "f = open(\"Ant_tag.json\", \"r\")\n",
    "c = f.read()\n",
    "f.close()\n",
    "js = json.loads(c)\n",
    "\n",
    "## Establecemos la conexion con el servidor\n",
    "base_de_datos = SM.obtener_bd()\n",
    "\n",
    "# Definimos una variable con los atributos de un elemento almacenado por primera vez\n",
    "# final_data = SM.Ublox_1\n",
    "\n",
    "## Pruebas de código ~~~~~~~~~~~~~~~~~~~~~~~~~~~~~~~~~~~\n",
    "# fecha = datetime.strptime(\"2022/11/17/ 21:42:28\",\"%Y/%m/%d/ %H:%M:%S\")\n",
    "# print(fecha,type(fecha))\n",
    "# fecha_str = str(fecha)\n",
    "# print(fecha_str,type(fecha_str))\n",
    "# time_0 = '2022/11/17/ 21:42:28'\n",
    "# ~~~~~~~~~~~~~~~~~~~~~~~~~~~~~~~~~~~~~~~~~~~~~~~~~~~~~\n",
    "\n",
    "## Traemos el ultimo elemento de la lista en el tiempo de lectura\n",
    "## La idea es poder trabajar con el tiempo anterior a este número\n",
    "r_0 = base_de_datos.find().sort(\"_id\",-1).limit(1)\n",
    "\n",
    "for r in r_0:\n",
    "    id_0 = r\n",
    "\n",
    "fecha_0 = str(datetime.strptime(str(id_0['hora']),\"%Y/%m/%d/ %H:%M:%S\"))\n",
    "\n",
    "time_1 = datetime.strptime(str(id_0['hora']),\"%Y/%m/%d/ %H:%M:%S\") - timedelta(seconds=1)\n",
    "fecha_1 = str(time_1)\n",
    "\n",
    "time_2 = datetime.strptime(str(id_0['hora']),\"%Y/%m/%d/ %H:%M:%S\") - timedelta(seconds=2)\n",
    "fecha_2 = str(time_2)\n",
    "\n",
    "time_3 = datetime.strptime(str(id_0['hora']),\"%Y/%m/%d/ %H:%M:%S\") - timedelta(seconds=3)\n",
    "fecha_3 = str(time_3)\n",
    "\n",
    "time_4 = datetime.strptime(str(id_0['hora']),\"%Y/%m/%d/ %H:%M:%S\") - timedelta(seconds=4)\n",
    "fecha_4 = str(time_4)\n",
    "# Nota: Esto se puede reducir más todavia pero quiero saber si funciona todo primero antes de meterle mano a todo\n",
    "\n",
    "## Traigo una cantidad de datos desde la base de datos, está a su vez esta limitado con la variable contenida en la clase limit()\n",
    "## Lo separo en 4 vectores porque no tengo garantía de que todos los datos hayan sido recibidos en orden y con la misma hora\n",
    "## Existe la posibilidad de que los datos se pierdan en el camino, que la antena deje de mandar datos, que las baterias de los tag se agoten y dejen de enviar datos, que el trafico de red sea demasiado para el ordenador que hace de host del servidor o que el mismo repetidor que ocupo no sea capaz de procesar las instrucciones aunque lo dudo, pero en retrospectiva puede pasar, podría ser victima de un ataque de Ddos\n",
    "\n",
    "respuestas = base_de_datos.find().sort(\"_id\",-1)#.limit(500)\n",
    "\n",
    "# tag_1/Ant_1\n",
    "vect_11 = []\n",
    "# tag_2/Ant_1\n",
    "vect_21 = []\n",
    "# tag_1/Ant_2\n",
    "vect_12 = []\n",
    "# tag_2/Ant_2\n",
    "vect_22 = []\n",
    "\n",
    "for r in respuestas:\n",
    "    if(r['Id_tag']== js[\"tag_1\"] and r['Id_ant']==js[\"Antena_1\"]):\n",
    "        vect_11.append(r)\n",
    "    elif(r['Id_tag']== js[\"tag_2\"] and r['Id_ant']==js[\"Antena_1\"]):\n",
    "        vect_21.append(r)\n",
    "    elif(r['Id_tag']== js[\"tag_1\"] and r['Id_ant']==js[\"Antena_2\"]):\n",
    "        vect_12.append(r)\n",
    "    elif(r['Id_tag']== js[\"tag_2\"] and r['Id_ant']==js[\"Antena_2\"]):\n",
    "        vect_22.append(r)\n",
    "    else:\n",
    "        pass\n",
    "\n",
    "## De los cuatro vector que creamos, los reducimos a dos para poder tener las variables que tienen el mismo tag con antenas diferentes\n",
    "## El críterio para juntar alguno de los elementos es que tengan la misma hora de captura del dato y que el tag sea igual en ambos casos pero los datos deben ser tomado de diferentes antenas\n",
    "## En este caso tenemos solo dos antenas y dos tag\n",
    "\n",
    "vect_1 = []\n",
    "vect_2 = []\n",
    "# cargamos los datos al vect_1\n",
    "for r in vect_11:\n",
    "    #print(r['hora'])\n",
    "    for s in vect_12:\n",
    "        #print(s['hora'])\n",
    "        #print(\"~\"*50)\n",
    "        if(r['hora']==s['hora']):\n",
    "            #print(\"3\")\n",
    "            vect_1.append(r)\n",
    "            vect_1.append(s)\n",
    "            vect_12.remove(s)\n",
    "\n",
    "# Cargamos los datos al vect_2\n",
    "for r in vect_21:\n",
    "    #print(\"1\")\n",
    "    for s in vect_22:\n",
    "        #print(\"2\")\n",
    "        if(r['hora']==s['hora']):\n",
    "            #print(\"3\")\n",
    "            vect_2.append(r)\n",
    "            vect_2.append(s)\n",
    "            vect_22.remove(s)\n",
    "\n",
    "## Testeo de variables ~~~~~~~~~~~~~~~~~~~~~~~~~~~~\n",
    "print(\"~\"*50)\n",
    "print(vect_1[0])\n",
    "print(vect_1[1])\n",
    "print(\"~\"*50)\n",
    "print(vect_2[0])\n",
    "print(vect_2[1])\n",
    "# print(vect_1[0]['_id'])\n",
    "# print(ObjectId(str(vect_1[0]['_id'])))\n",
    "# # print(vect_1[2])\n",
    "# # print(vect_1[3])\n",
    "# # print(vect_1[4])\n",
    "# # print(vect_1[5])\n",
    "# print(\"~\"*50)\n",
    "print(len(vect_1))\n",
    "print(len(vect_2))\n",
    "print(\"~\"*50)\n",
    "print(type(vect_1))\n",
    "print(type(vect_2))\n",
    "## ~~~~~~~~~~~~~~~~~~~~~~~~~~~~~~~~~~~~~~~~~~~~~~~\n",
    "\n",
    "\n",
    "## Para ingresar a los elementos del arreglo y modificarlos\n",
    "## Actualizo los datos añadiendo el parametro Distancia_ant_tag para guardarlos en la base de datos de MongoDb\n",
    "## Vector 1\n",
    "for t in range(int(len(vect_1)/2)):\n",
    "    D_B,D_A = utils.Distancia_ant_tag(D_ant_tag,vect_1[2*t]['Ang_azimuth'],vect_1[(2*t)+1]['Ang_azimuth'])\n",
    "    # print (D_B)\n",
    "    # print (D_A)\n",
    "    d_a = D_A\n",
    "    d_b = D_B\n",
    "    base_de_datos.update_one(\n",
    "        {\"_id\": ObjectId(str(vect_1[2*t]['_id']))},\n",
    "        {\n",
    "            \"$set\":{\n",
    "                \"Distancia_ant_tag\": d_b\n",
    "            }\n",
    "        }\n",
    "    )\n",
    "    base_de_datos.update_one(\n",
    "        {\"_id\": ObjectId(vect_1[(2*t)+1]['_id'])},\n",
    "        {\n",
    "            \"$set\":{\n",
    "                \"Distancia_ant_tag\": d_a\n",
    "            }\n",
    "        }\n",
    "    )\n",
    "\n",
    "## Vector 2\n",
    "for t in range(int(len(vect_2)/2)):\n",
    "    D_B,D_A = utils.Distancia_ant_tag(D_ant_tag,vect_2[2*t]['Ang_azimuth'],vect_2[(2*t)+1]['Ang_azimuth'])\n",
    "    # print (D_B)\n",
    "    # print (D_A)\n",
    "    base_de_datos.update_one(\n",
    "        {'_id': ObjectId(vect_2[2*t]['_id'])},\n",
    "        {\n",
    "            '$set':{\n",
    "                \"Distancia_ant_tag\": D_B\n",
    "            }\n",
    "                \n",
    "        }\n",
    "    )\n",
    "    base_de_datos.update_one(\n",
    "        {'_id': ObjectId(vect_2[(2*t)+1]['_id'])},\n",
    "        {\n",
    "            '$set':{\n",
    "                \"Distancia_ant_tag\": D_A\n",
    "            }\n",
    "        }\n",
    "    )\n",
    "    \n",
    "\n",
    "# Nota esto podría ser una función pero de momento lo tengo todo junto no más\n",
    "\n"
   ]
  },
  {
   "cell_type": "markdown",
   "metadata": {},
   "source": [
    "Tenemos la Primera red neuronal"
   ]
  },
  {
   "cell_type": "code",
   "execution_count": 112,
   "metadata": {},
   "outputs": [
    {
     "name": "stdout",
     "output_type": "stream",
     "text": [
      "~~~~~~~~~~~~~~~~~~~~~~~~~~~~~~~~~~~~~~~~~~~~~~~~~~\n",
      "{'_id': ObjectId('6389877d2ebaa36246298194'), 'hora': '2022/12/02/ 02:05:00', 'Id_tag': ':CCF957966AC9', 'Id_ant': 'PID=0403:6015 SER=D200C017A', 'RSSI': -61, 'Ang_azimuth': -12, 'Ang_elevacion': -24, 'Canal': 39, 'Altura_ant': 170, 'Distancia_ant_tag': 253.8600317367592}\n",
      "{'_id': ObjectId('6389877d2ebaa36246298198'), 'hora': '2022/12/02/ 02:05:00', 'Id_tag': ':CCF957966AC9', 'Id_ant': 'PID=0403:6015 SER=D200C017A', 'RSSI': -65, 'Ang_azimuth': -12, 'Ang_elevacion': -24, 'Canal': 38, 'Altura_ant': 170, 'Distancia_ant_tag': 253.8600317367592}\n",
      "~~~~~~~~~~~~~~~~~~~~~~~~~~~~~~~~~~~~~~~~~~~~~~~~~~\n",
      "{'_id': ObjectId('6389877d2ebaa36246298196'), 'hora': '2022/12/02/ 02:05:00', 'Id_tag': ':CCF957966B2C', 'Id_ant': 'PID=0403:6015 SER=D200C017A', 'RSSI': -58, 'Ang_azimuth': -44, 'Ang_elevacion': -12, 'Canal': 38, 'Altura_ant': 170, 'Distancia_ant_tag': 372.26797059933756}\n",
      "{'_id': ObjectId('6389877d2ebaa3624629819a'), 'hora': '2022/12/02/ 02:05:00', 'Id_tag': ':CCF957966B2C', 'Id_ant': 'PID=0403:6015 SER=D200C017A', 'RSSI': -53, 'Ang_azimuth': -44, 'Ang_elevacion': -12, 'Canal': 39, 'Altura_ant': 170, 'Distancia_ant_tag': 372.26797059933756}\n",
      "<class 'pandas.core.frame.DataFrame'>\n",
      "RangeIndex: 766 entries, 0 to 765\n",
      "Data columns (total 10 columns):\n",
      " #   Column             Non-Null Count  Dtype  \n",
      "---  ------             --------------  -----  \n",
      " 0   _id                766 non-null    object \n",
      " 1   hora               766 non-null    object \n",
      " 2   Id_tag             766 non-null    object \n",
      " 3   Id_ant             766 non-null    object \n",
      " 4   RSSI               766 non-null    int64  \n",
      " 5   Ang_azimuth        766 non-null    int64  \n",
      " 6   Ang_elevacion      766 non-null    int64  \n",
      " 7   Canal              766 non-null    int64  \n",
      " 8   Altura_ant         766 non-null    int64  \n",
      " 9   Distancia_ant_tag  766 non-null    float64\n",
      "dtypes: float64(1), int64(5), object(4)\n",
      "memory usage: 60.0+ KB\n"
     ]
    }
   ],
   "source": [
    "## Iniciamos la parte de correccion por parte de las redes neuronales\n",
    "\n",
    "respuestas = base_de_datos.find({\"Distancia_ant_tag\":{\"$exists\" : True}}).sort(\"_id\",1)#.limit(500)  #1 significa de menor a mayor\n",
    "\n",
    "# tag_1/Ant_1\n",
    "vect_11 = []\n",
    "# tag_2/Ant_1\n",
    "vect_21 = []\n",
    "# tag_1/Ant_2\n",
    "vect_12 = []\n",
    "# tag_2/Ant_2\n",
    "vect_22 = []\n",
    "\n",
    "for r in respuestas:\n",
    "    if(r['Id_tag']== js[\"tag_1\"] and r['Id_ant']==js[\"Antena_1\"]):\n",
    "        vect_11.append(r)\n",
    "    elif(r['Id_tag']== js[\"tag_2\"] and r['Id_ant']==js[\"Antena_1\"]):\n",
    "        vect_21.append(r)\n",
    "    elif(r['Id_tag']== js[\"tag_1\"] and r['Id_ant']==js[\"Antena_2\"]):\n",
    "        vect_12.append(r)\n",
    "    elif(r['Id_tag']== js[\"tag_2\"] and r['Id_ant']==js[\"Antena_2\"]):\n",
    "        vect_22.append(r)\n",
    "    else:\n",
    "        pass\n",
    "\n",
    "# print(\"~\"*50)\n",
    "# print(vect_11[0])\n",
    "# print(vect_11[1])\n",
    "# print(\"~\"*50)\n",
    "# print(vect_21[0])\n",
    "# print(vect_21[1])\n",
    "\n",
    "df_11 = pd.DataFrame(vect_11)\n",
    "df_21 = pd.DataFrame(vect_21)\n",
    "df_12 = pd.DataFrame(vect_12)\n",
    "df_22 = pd.DataFrame(vect_22)\n",
    "#print(df_11)\n",
    "#df_11.info()\n"
   ]
  },
  {
   "cell_type": "code",
   "execution_count": 113,
   "metadata": {},
   "outputs": [
    {
     "name": "stdout",
     "output_type": "stream",
     "text": [
      "<class 'pandas.core.frame.DataFrame'>\n",
      "RangeIndex: 766 entries, 0 to 765\n",
      "Data columns (total 6 columns):\n",
      " #   Column             Non-Null Count  Dtype  \n",
      "---  ------             --------------  -----  \n",
      " 0   RSSI               766 non-null    int64  \n",
      " 1   Ang_azimuth        766 non-null    int64  \n",
      " 2   Ang_elevacion      766 non-null    int64  \n",
      " 3   Canal              766 non-null    int64  \n",
      " 4   Altura_ant         766 non-null    int64  \n",
      " 5   Distancia_ant_tag  766 non-null    float64\n",
      "dtypes: float64(1), int64(5)\n",
      "memory usage: 36.0 KB\n"
     ]
    }
   ],
   "source": [
    "df_11_r =  df_11.drop(['_id','hora','Id_tag','Id_ant'],axis=1)\n",
    "df_21_r =  df_21.drop(['_id','hora','Id_tag','Id_ant'],axis=1)\n",
    "df_12_r =  df_12.drop(['_id','hora','Id_tag','Id_ant'],axis=1)\n",
    "df_22_r =  df_22.drop(['_id','hora','Id_tag','Id_ant'],axis=1)"
   ]
  },
  {
   "cell_type": "code",
   "execution_count": 114,
   "metadata": {},
   "outputs": [],
   "source": [
    "scaler = MinMaxScaler()\n",
    "scaler = scaler.fit(df_11_r)\n",
    "\n",
    "scaler_1 = MinMaxScaler()\n",
    "scaler_1 = scaler_1.fit(df_21_r)\n",
    "\n",
    "scaler_2 = MinMaxScaler()\n",
    "scaler_2 = scaler_2.fit(df_12_r)\n",
    "\n",
    "scaler_3 = MinMaxScaler()\n",
    "scaler_3 = scaler_3.fit(df_22_r)"
   ]
  },
  {
   "cell_type": "code",
   "execution_count": 115,
   "metadata": {},
   "outputs": [],
   "source": [
    "df_11_r[['RSSI','Ang_azimuth','Ang_elevacion','Canal','Altura_ant','Distancia_ant_tag']] = scaler.transform (df_11_r[['RSSI','Ang_azimuth','Ang_elevacion','Canal','Altura_ant','Distancia_ant_tag']])\n",
    "df_21_r[['RSSI','Ang_azimuth','Ang_elevacion','Canal','Altura_ant','Distancia_ant_tag']] = scaler.transform (df_21_r[['RSSI','Ang_azimuth','Ang_elevacion','Canal','Altura_ant','Distancia_ant_tag']])\n",
    "df_12_r[['RSSI','Ang_azimuth','Ang_elevacion','Canal','Altura_ant','Distancia_ant_tag']] = scaler.transform (df_12_r[['RSSI','Ang_azimuth','Ang_elevacion','Canal','Altura_ant','Distancia_ant_tag']])\n",
    "df_22_r[['RSSI','Ang_azimuth','Ang_elevacion','Canal','Altura_ant','Distancia_ant_tag']] = scaler.transform (df_22_r[['RSSI','Ang_azimuth','Ang_elevacion','Canal','Altura_ant','Distancia_ant_tag']])"
   ]
  },
  {
   "cell_type": "code",
   "execution_count": 116,
   "metadata": {},
   "outputs": [],
   "source": [
    "# Creamos el dataset\n",
    "def create_dataset (X, times_steps = 1):\n",
    "    Xs = []\n",
    "    for i in range(len(X)- times_steps):\n",
    "        v = X.iloc[i:(i+ times_steps)].values\n",
    "        Xs.append(v)\n",
    "    return np.array(Xs)"
   ]
  },
  {
   "cell_type": "code",
   "execution_count": 117,
   "metadata": {},
   "outputs": [],
   "source": [
    "time_steps = 40\n",
    "X_test = create_dataset(df_11_r,time_steps)\n",
    "X_test_1 = create_dataset(df_21_r,time_steps)\n",
    "X_test_2 = create_dataset(df_12_r,time_steps)\n",
    "X_test_3 = create_dataset(df_22_r,time_steps)"
   ]
  },
  {
   "cell_type": "code",
   "execution_count": 118,
   "metadata": {},
   "outputs": [
    {
     "name": "stdout",
     "output_type": "stream",
     "text": [
      "Modelo cargado desde el PC:  model_conv_malo.json\n"
     ]
    }
   ],
   "source": [
    "# Modelo guardado en el PC\n",
    "#from keras.models import model_from_json\n",
    "import keras\n",
    "\n",
    "name_json = \"model_conv_malo.json\"\n",
    "\n",
    "# carga el json y crea el modelo\n",
    "json_file = open(name_json,'r')\n",
    "loaded_model_json = json_file.read()\n",
    "json_file.close()\n",
    "\n",
    "modelo = keras.models.model_from_json(loaded_model_json)\n",
    "# se cargan los pesos (weights) en el nuevo modelo\n",
    "modelo.load_weights(\"model_conv_malo.h5\")\n",
    "print(\"Modelo cargado desde el PC: \",name_json)\n",
    "# se evalua el modelo cargado con los datos de los test"
   ]
  },
  {
   "cell_type": "code",
   "execution_count": 119,
   "metadata": {},
   "outputs": [
    {
     "name": "stdout",
     "output_type": "stream",
     "text": [
      "Model: \"sequential_1\"\n",
      "_________________________________________________________________\n",
      " Layer (type)                Output Shape              Param #   \n",
      "=================================================================\n",
      " conv2d_1 (Conv2D)           (None, 36, 2, 3)          78        \n",
      "                                                                 \n",
      " max_pooling2d_1 (MaxPooling  (None, 12, 1, 3)         0         \n",
      " 2D)                                                             \n",
      "                                                                 \n",
      " flatten_1 (Flatten)         (None, 36)                0         \n",
      "                                                                 \n",
      " dense_1 (Dense)             (None, 32)                1184      \n",
      "                                                                 \n",
      " dropout_1 (Dropout)         (None, 32)                0         \n",
      "                                                                 \n",
      " dense_2 (Dense)             (None, 1)                 33        \n",
      "                                                                 \n",
      "=================================================================\n",
      "Total params: 1,295\n",
      "Trainable params: 1,295\n",
      "Non-trainable params: 0\n",
      "_________________________________________________________________\n"
     ]
    }
   ],
   "source": [
    "modelo.summary()"
   ]
  },
  {
   "cell_type": "code",
   "execution_count": 120,
   "metadata": {},
   "outputs": [],
   "source": [
    "X_test = np.expand_dims(X_test, -1)\n",
    "X_test_1 = np.expand_dims(X_test_1, -1)\n",
    "X_test_2 = np.expand_dims(X_test_2, -1)\n",
    "X_test_3 = np.expand_dims(X_test_3, -1)"
   ]
  },
  {
   "cell_type": "code",
   "execution_count": 121,
   "metadata": {},
   "outputs": [
    {
     "name": "stdout",
     "output_type": "stream",
     "text": [
      "23/23 [==============================] - 0s 1ms/step\n"
     ]
    }
   ],
   "source": [
    "y_pred = modelo.predict(X_test)\n",
    "y_pred_1 = modelo.predict(X_test_1)\n",
    "y_pred_2 = modelo.predict(X_test_2)\n",
    "y_pred_3 = modelo.predict(X_test_3)"
   ]
  },
  {
   "cell_type": "code",
   "execution_count": 122,
   "metadata": {},
   "outputs": [
    {
     "data": {
      "text/plain": [
       "<matplotlib.legend.Legend at 0x16355090790>"
      ]
     },
     "execution_count": 122,
     "metadata": {},
     "output_type": "execute_result"
    },
    {
     "data": {
      "image/png": "[encoded data removed]",
      "text/plain": [
       "<Figure size 640x480 with 1 Axes>"
      ]
     },
     "metadata": {},
     "output_type": "display_data"
    }
   ],
   "source": [
    "from matplotlib import pyplot as plt\n",
    "\n",
    "plt.plot(y_pred, label = 'Predicted')\n",
    "plt.legend()"
   ]
  },
  {
   "cell_type": "code",
   "execution_count": null,
   "metadata": {},
   "outputs": [],
   "source": [
    "plt.plot(y_pred_1, label = 'Predicted_1')\n",
    "plt.plot(y_pred_2, label = 'Predicted_2')\n",
    "plt.plot(y_pred_3, label = 'Predicted_3')\n",
    "plt.legend()"
   ]
  },
  {
   "cell_type": "code",
   "execution_count": 123,
   "metadata": {},
   "outputs": [],
   "source": [
    "# scaler2 = MinMaxScaler()\n",
    "# scaler2.min_,scaler2.scale_ = scaler.min_[5],scaler.scale_[5]\n",
    "\n",
    "# scaler3 = MinMaxScaler()\n",
    "# scaler3.min_,scaler3.scale_ = scaler_1.min_[5],scaler_1.scale_[5]\n",
    "\n",
    "# scaler4 = MinMaxScaler()\n",
    "# scaler4.min_,scaler4.scale_ = scaler_2.min_[5],scaler_2.scale_[5]\n",
    "\n",
    "# scaler5 = MinMaxScaler()\n",
    "# scaler5.min_,scaler5.scale_ = scaler_3.min_[5],scaler_3.scale_[5]"
   ]
  },
  {
   "cell_type": "code",
   "execution_count": 187,
   "metadata": {},
   "outputs": [],
   "source": [
    "df_11 = pd.DataFrame(vect_11)\n",
    "df_21 = pd.DataFrame(vect_21)\n",
    "df_12 = pd.DataFrame(vect_12)\n",
    "df_22 = pd.DataFrame(vect_22)"
   ]
  },
  {
   "cell_type": "code",
   "execution_count": 188,
   "metadata": {},
   "outputs": [],
   "source": [
    "df_11.drop(df_11.index[0:41],axis=0,inplace=True)\n",
    "df_21.drop(df_21.index[0:41],axis=0,inplace=True)\n",
    "df_12.drop(df_12.index[0:41],axis=0,inplace=True)\n",
    "df_22.drop(df_22.index[0:41],axis=0,inplace=True)"
   ]
  },
  {
   "cell_type": "code",
   "execution_count": 189,
   "metadata": {},
   "outputs": [],
   "source": [
    "y_result = np.array(y_pred)\n",
    "y_result_1 = np.array(y_pred_1)\n",
    "y_result_2 = np.array(y_pred_2)\n",
    "y_result_3 = np.array(y_pred_3)"
   ]
  },
  {
   "cell_type": "code",
   "execution_count": 190,
   "metadata": {},
   "outputs": [
    {
     "data": {
      "text/plain": [
       "0.5313574"
      ]
     },
     "execution_count": 190,
     "metadata": {},
     "output_type": "execute_result"
    }
   ],
   "source": [
    "y_result[0][0]"
   ]
  },
  {
   "cell_type": "code",
   "execution_count": 191,
   "metadata": {},
   "outputs": [],
   "source": [
    "y_df_11 = []\n",
    "y_df_21 = []\n",
    "y_df_12 = []\n",
    "y_df_22 = []\n",
    "for x in range(len(y_result)-1):\n",
    "    y_df_11.append(y_result[x][0])\n",
    "\n",
    "for x in range(len(y_result_1)-1):\n",
    "    y_df_21.append(y_result_1[x][0])\n",
    "\n",
    "for x in range(len(y_result_2)-1):\n",
    "    y_df_12.append(y_result_2[x][0])\n",
    "\n",
    "for x in range(len(y_result_3)-1):\n",
    "    y_df_22.append(y_result_3[x][0])"
   ]
  },
  {
   "cell_type": "code",
   "execution_count": 192,
   "metadata": {},
   "outputs": [],
   "source": [
    "y_result = np.array(y_df_11)\n",
    "y_result_1 = np.array(y_df_21)\n",
    "y_result_2 = np.array(y_df_12)\n",
    "y_result_3 = np.array(y_df_22)"
   ]
  },
  {
   "cell_type": "code",
   "execution_count": 193,
   "metadata": {},
   "outputs": [],
   "source": [
    "df_11['LOS'] = y_result.tolist()\n",
    "df_21['LOS'] = y_result_1.tolist()\n",
    "df_12['LOS'] = y_result_2.tolist()\n",
    "df_22['LOS'] = y_result_3.tolist()"
   ]
  },
  {
   "cell_type": "code",
   "execution_count": 200,
   "metadata": {},
   "outputs": [],
   "source": [
    "#df_11.info()"
   ]
  },
  {
   "cell_type": "code",
   "execution_count": 201,
   "metadata": {},
   "outputs": [],
   "source": [
    "#df_11['_id'][41]"
   ]
  },
  {
   "cell_type": "code",
   "execution_count": 199,
   "metadata": {},
   "outputs": [],
   "source": [
    "for t in range(len(df_11)):\n",
    "\n",
    "    base_de_datos.update_one(\n",
    "        {\"_id\": ObjectId(str(df_11['_id'][41+t]))},\n",
    "        {\n",
    "            \"$set\":{\n",
    "                \"LOS\": df_11['LOS'][41+t]\n",
    "            }\n",
    "        }\n",
    "    )\n",
    "\n",
    "for t in range(len(df_21)):\n",
    "\n",
    "    base_de_datos.update_one(\n",
    "        {\"_id\": ObjectId(str(df_21['_id'][41+t]))},\n",
    "        {\n",
    "            \"$set\":{\n",
    "                \"LOS\": df_21['LOS'][41+t]\n",
    "            }\n",
    "        }\n",
    "    )\n",
    "\n",
    "for t in range(len(df_12)):\n",
    "\n",
    "    base_de_datos.update_one(\n",
    "        {\"_id\": ObjectId(str(df_12['_id'][41+t]))},\n",
    "        {\n",
    "            \"$set\":{\n",
    "                \"LOS\": df_12['LOS'][41+t]\n",
    "            }\n",
    "        }\n",
    "    )\n",
    "\n",
    "for t in range(len(df_22)):\n",
    "\n",
    "    base_de_datos.update_one(\n",
    "        {\"_id\": ObjectId(str(df_22['_id'][41+t]))},\n",
    "        {\n",
    "            \"$set\":{\n",
    "                \"LOS\": df_22['LOS'][41+t]\n",
    "            }\n",
    "        }\n",
    "    )"
   ]
  },
  {
   "cell_type": "markdown",
   "metadata": {},
   "source": [
    "Tenemos la segunda red neuronal"
   ]
  },
  {
   "cell_type": "code",
   "execution_count": null,
   "metadata": {},
   "outputs": [],
   "source": [
    "respuestas = base_de_datos.find({\"LOS\":{\"$exists\" : True}}).sort(\"_id\",1)#.limit(500)  #1 significa de menor a mayor\n",
    "\n",
    "# tag_1/Ant_1\n",
    "vect_11 = []\n",
    "# tag_2/Ant_1\n",
    "vect_21 = []\n",
    "# tag_1/Ant_2\n",
    "vect_12 = []\n",
    "# tag_2/Ant_2\n",
    "vect_22 = []\n",
    "\n",
    "for r in respuestas:\n",
    "    if(r['Id_tag']== js[\"tag_1\"] and r['Id_ant']==js[\"Antena_1\"]):\n",
    "        vect_11.append(r)\n",
    "    elif(r['Id_tag']== js[\"tag_2\"] and r['Id_ant']==js[\"Antena_1\"]):\n",
    "        vect_21.append(r)\n",
    "    elif(r['Id_tag']== js[\"tag_1\"] and r['Id_ant']==js[\"Antena_2\"]):\n",
    "        vect_12.append(r)\n",
    "    elif(r['Id_tag']== js[\"tag_2\"] and r['Id_ant']==js[\"Antena_2\"]):\n",
    "        vect_22.append(r)\n",
    "    else:\n",
    "        pass\n",
    "\n",
    "df_11 = pd.DataFrame(vect_11)\n",
    "df_21 = pd.DataFrame(vect_21)\n",
    "df_12 = pd.DataFrame(vect_12)\n",
    "df_22 = pd.DataFrame(vect_22)"
   ]
  },
  {
   "cell_type": "code",
   "execution_count": null,
   "metadata": {},
   "outputs": [],
   "source": [
    "df_11_l =  df_11.drop(['_id','hora','Id_tag','Id_ant'],axis=1)\n",
    "df_21_l =  df_21.drop(['_id','hora','Id_tag','Id_ant'],axis=1)\n",
    "df_12_l =  df_12.drop(['_id','hora','Id_tag','Id_ant'],axis=1)\n",
    "df_22_l =  df_22.drop(['_id','hora','Id_tag','Id_ant'],axis=1)"
   ]
  },
  {
   "cell_type": "code",
   "execution_count": null,
   "metadata": {},
   "outputs": [],
   "source": [
    "scaler = MinMaxScaler()\n",
    "scaler = scaler.fit(df_11_l)\n",
    "\n",
    "scaler_1 = MinMaxScaler()\n",
    "scaler_1 = scaler_1.fit(df_21_l)\n",
    "\n",
    "scaler_2 = MinMaxScaler()\n",
    "scaler_2 = scaler_2.fit(df_12_l)\n",
    "\n",
    "scaler_3 = MinMaxScaler()\n",
    "scaler_3 = scaler_3.fit(df_22_l)"
   ]
  },
  {
   "cell_type": "code",
   "execution_count": null,
   "metadata": {},
   "outputs": [],
   "source": [
    "df_11_l[['RSSI','Ang_azimuth','Ang_elevacion','Canal','Altura_ant','Distancia_ant_tag','LOS']] = scaler.transform (df_11_l[['RSSI','Ang_azimuth','Ang_elevacion','Canal','Altura_ant','Distancia_ant_tag','LOS']])\n",
    "df_21_l[['RSSI','Ang_azimuth','Ang_elevacion','Canal','Altura_ant','Distancia_ant_tag','LOS']] = scaler.transform (df_21_l[['RSSI','Ang_azimuth','Ang_elevacion','Canal','Altura_ant','Distancia_ant_tag','LOS']])\n",
    "df_12_l[['RSSI','Ang_azimuth','Ang_elevacion','Canal','Altura_ant','Distancia_ant_tag','LOS']] = scaler.transform (df_12_l[['RSSI','Ang_azimuth','Ang_elevacion','Canal','Altura_ant','Distancia_ant_tag','LOS']])\n",
    "df_22_l[['RSSI','Ang_azimuth','Ang_elevacion','Canal','Altura_ant','Distancia_ant_tag','LOS']] = scaler.transform (df_22_l[['RSSI','Ang_azimuth','Ang_elevacion','Canal','Altura_ant','Distancia_ant_tag','LOS']])"
   ]
  },
  {
   "cell_type": "code",
   "execution_count": null,
   "metadata": {},
   "outputs": [],
   "source": [
    "time_steps = 3\n",
    "X_test_0 = create_dataset(df_11_l,time_steps)\n",
    "X_test_1 = create_dataset(df_21_l,time_steps)\n",
    "X_test_2 = create_dataset(df_12_l,time_steps)\n",
    "X_test_3 = create_dataset(df_22_l,time_steps)"
   ]
  },
  {
   "cell_type": "code",
   "execution_count": null,
   "metadata": {},
   "outputs": [],
   "source": [
    "# Modelo guardado en el PC\n",
    "#from keras.models import model_from_json\n",
    "import keras\n",
    "\n",
    "name_json = \"model_lstm.json\"\n",
    "\n",
    "# carga el json y crea el modelo\n",
    "json_file = open(name_json,'r')\n",
    "loaded_model_json = json_file.read()\n",
    "json_file.close()\n",
    "\n",
    "modelo = keras.models.model_from_json(loaded_model_json)\n",
    "# se cargan los pesos (weights) en el nuevo modelo\n",
    "modelo.load_weights(\"model_lstm.h5\")\n",
    "print(\"Modelo cargado desde el PC: \",name_json)\n",
    "# se evalua el modelo cargado con los datos de los test\n",
    "\n",
    "modelo.summary()\n",
    "\n",
    "# X_test = np.expand_dims(X_test, -1)\n",
    "# X_test_1 = np.expand_dims(X_test_1, -1)\n",
    "# X_test_2 = np.expand_dims(X_test_2, -1)\n",
    "# X_test_3 = np.expand_dims(X_test_3, -1)"
   ]
  },
  {
   "cell_type": "code",
   "execution_count": null,
   "metadata": {},
   "outputs": [],
   "source": [
    "y_pred_0_l = modelo.predict(X_test_0)\n",
    "y_pred_1_l = modelo.predict(X_test_1)\n",
    "y_pred_2_l = modelo.predict(X_test_2)\n",
    "y_pred_3_l = modelo.predict(X_test_3)"
   ]
  },
  {
   "cell_type": "code",
   "execution_count": null,
   "metadata": {},
   "outputs": [],
   "source": [
    "plt.plot(y_pred_0_l, label = 'Predicted_0')\n",
    "plt.plot(y_pred_1_l, label = 'Predicted_1')\n",
    "plt.plot(y_pred_2_l, label = 'Predicted_2')\n",
    "plt.plot(y_pred_3_l, label = 'Predicted_3')\n",
    "plt.legend()"
   ]
  },
  {
   "cell_type": "code",
   "execution_count": null,
   "metadata": {},
   "outputs": [],
   "source": [
    "scaler2 = MinMaxScaler()\n",
    "scaler2.min_,scaler2.scale_ = scaler.min_[5],scaler.scale_[5]\n",
    "scaler3 = MinMaxScaler()\n",
    "scaler3.min_,scaler3.scale_ = scaler_1.min_[5],scaler_1.scale_[5]\n",
    "scaler4 = MinMaxScaler()\n",
    "scaler4.min_,scaler4.scale_ = scaler_2.min_[5],scaler_2.scale_[5]\n",
    "scaler5 = MinMaxScaler()\n",
    "scaler5.min_,scaler5.scale_ = scaler_3.min_[5],scaler_3.scale_[5]"
   ]
  },
  {
   "cell_type": "code",
   "execution_count": null,
   "metadata": {},
   "outputs": [],
   "source": [
    "y_pred_0_l_c = scaler2.inverse_transform([y_pred_0_l])\n",
    "y_pred_1_l_c = scaler3.inverse_transform([y_pred_1_l])\n",
    "y_pred_2_l_c = scaler4.inverse_transform([y_pred_2_l])\n",
    "y_pred_3_l_c = scaler5.inverse_transform([y_pred_3_l])"
   ]
  },
  {
   "cell_type": "code",
   "execution_count": null,
   "metadata": {},
   "outputs": [],
   "source": [
    "df_11_l = pd.DataFrame(vect_11)\n",
    "df_21_l = pd.DataFrame(vect_21)\n",
    "df_12_l = pd.DataFrame(vect_12)\n",
    "df_22_l = pd.DataFrame(vect_22)"
   ]
  },
  {
   "cell_type": "code",
   "execution_count": null,
   "metadata": {},
   "outputs": [],
   "source": [
    "df_11_l.drop(df_11_l.index[0:5],axis=0,inplace=True)\n",
    "df_21_l.drop(df_21_l.index[0:5],axis=0,inplace=True)\n",
    "df_12_l.drop(df_12_l.index[0:5],axis=0,inplace=True)\n",
    "df_22_l.drop(df_22_l.index[0:5],axis=0,inplace=True)"
   ]
  },
  {
   "cell_type": "code",
   "execution_count": null,
   "metadata": {},
   "outputs": [],
   "source": [
    "y_result_0 = np.array(y_pred_0_l_c)\n",
    "y_result_1 = np.array(y_pred_1_l_c)\n",
    "y_result_2 = np.array(y_pred_2_l_c)\n",
    "y_result_3 = np.array(y_pred_3_l_c)"
   ]
  },
  {
   "cell_type": "code",
   "execution_count": null,
   "metadata": {},
   "outputs": [],
   "source": [
    "y_df_11_l = []\n",
    "y_df_21_l = []\n",
    "y_df_12_l = []\n",
    "y_df_22_l = []\n",
    "for x in range(len(y_result)-1):\n",
    "    y_df_11_l.append(y_result_0[x][0])\n",
    "\n",
    "for x in range(len(y_result_1)-1):\n",
    "    y_df_21_l.append(y_result_1[x][0])\n",
    "\n",
    "for x in range(len(y_result_2)-1):\n",
    "    y_df_12_l.append(y_result_2[x][0])\n",
    "\n",
    "for x in range(len(y_result_3)-1):\n",
    "    y_df_22_l.append(y_result_3[x][0])"
   ]
  },
  {
   "cell_type": "code",
   "execution_count": null,
   "metadata": {},
   "outputs": [],
   "source": [
    "y_result_0 = np.array(y_df_11_l)\n",
    "y_result_1 = np.array(y_df_21_l)\n",
    "y_result_2 = np.array(y_df_12_l)\n",
    "y_result_3 = np.array(y_df_22_l)\n",
    "\n",
    "df_11_l['Distancia_corregida'] = y_result_0.tolist()\n",
    "df_21_l['Distancia_corregida'] = y_result_1.tolist()\n",
    "df_12_l['Distancia_corregida'] = y_result_2.tolist()\n",
    "df_22_l['Distancia_corregida'] = y_result_3.tolist()"
   ]
  },
  {
   "cell_type": "code",
   "execution_count": null,
   "metadata": {},
   "outputs": [],
   "source": [
    "for t in range(len(df_11_l)):\n",
    "\n",
    "    base_de_datos.update_one(\n",
    "        {\"_id\": ObjectId(str(df_11_l['_id'][5+t]))},\n",
    "        {\n",
    "            \"$set\":{\n",
    "                \"Distancia_corregida\": df_11_l['Distancia_corregida'][41+t]\n",
    "            }\n",
    "        }\n",
    "    )\n",
    "\n",
    "for t in range(len(df_21_l)):\n",
    "\n",
    "    base_de_datos.update_one(\n",
    "        {\"_id\": ObjectId(str(df_21_l['_id'][5+t]))},\n",
    "        {\n",
    "            \"$set\":{\n",
    "                \"Distancia_corregida\": df_21_l['Distancia_corregida'][41+t]\n",
    "            }\n",
    "        }\n",
    "    )\n",
    "\n",
    "for t in range(len(df_12_l)):\n",
    "\n",
    "    base_de_datos.update_one(\n",
    "        {\"_id\": ObjectId(str(df_12_l['_id'][5+t]))},\n",
    "        {\n",
    "            \"$set\":{\n",
    "                \"Distancia_corregida\": df_12_l['Distancia_corregida'][41+t]\n",
    "            }\n",
    "        }\n",
    "    )\n",
    "\n",
    "for t in range(len(df_22_l)):\n",
    "\n",
    "    base_de_datos.update_one(\n",
    "        {\"_id\": ObjectId(str(df_22_l['_id'][5+t]))},\n",
    "        {\n",
    "            \"$set\":{\n",
    "                \"Distancia_corregida\": df_22_l['Distancia_corregida'][41+t]\n",
    "            }\n",
    "        }\n",
    "    )"
   ]
  }
 ],
 "metadata": {
  "kernelspec": {
   "display_name": "Python 3.10.7 64-bit",
   "language": "python",
   "name": "python3"
  },
  "language_info": {
   "codemirror_mode": {
    "name": "ipython",
    "version": 3
   },
   "file_extension": ".py",
   "mimetype": "text/x-python",
   "name": "python",
   "nbconvert_exporter": "python",
   "pygments_lexer": "ipython3",
   "version": "3.10.7"
  },
  "orig_nbformat": 4,
  "vscode": {
   "interpreter": {
    "hash": "62b0f814e3323bf99b65e04ba38e27228b02227d4c0e0c442ded2babf0741dcc"
   }
  }
 },
 "nbformat": 4,
 "nbformat_minor": 2
}
