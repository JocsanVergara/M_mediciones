{
 "cells": [
  {
   "cell_type": "markdown",
   "metadata": {},
   "source": [
    "Importar librerias"
   ]
  },
  {
   "cell_type": "code",
   "execution_count": 3,
   "metadata": {},
   "outputs": [],
   "source": [
    "import os\n",
    "os.environ[\"TF_CPP_MIN_LOG_LEVEL\"] = \"2\"\n",
    "\n",
    "import tensorflow as tf\n",
    "# Importamos la librería de pandas\n",
    "import pandas as pd\n",
    "import re\n",
    "import matplotlib as plt\n",
    "import numpy as np\n",
    "import seaborn as sns\n",
    "from sklearn.preprocessing import MinMaxScaler, StandardScaler"
   ]
  },
  {
   "cell_type": "markdown",
   "metadata": {},
   "source": [
    "Cargar Datos"
   ]
  },
  {
   "cell_type": "code",
   "execution_count": 4,
   "metadata": {},
   "outputs": [
    {
     "data": {
      "text/html": [
       "<div>\n",
       "<style scoped>\n",
       "    .dataframe tbody tr th:only-of-type {\n",
       "        vertical-align: middle;\n",
       "    }\n",
       "\n",
       "    .dataframe tbody tr th {\n",
       "        vertical-align: top;\n",
       "    }\n",
       "\n",
       "    .dataframe thead th {\n",
       "        text-align: right;\n",
       "    }\n",
       "</style>\n",
       "<table border=\"1\" class=\"dataframe\">\n",
       "  <thead>\n",
       "    <tr style=\"text-align: right;\">\n",
       "      <th></th>\n",
       "      <th>RSSI</th>\n",
       "      <th>Ang_azimuth</th>\n",
       "      <th>Ang_elevacion</th>\n",
       "      <th>Canal</th>\n",
       "      <th>Altura_ant(cm)</th>\n",
       "      <th>Distancia_entre_ant_tag(cm)</th>\n",
       "      <th>Error_dato_medido</th>\n",
       "    </tr>\n",
       "  </thead>\n",
       "  <tbody>\n",
       "    <tr>\n",
       "      <th>0</th>\n",
       "      <td>-60.0</td>\n",
       "      <td>-9.0</td>\n",
       "      <td>-12.0</td>\n",
       "      <td>37.0</td>\n",
       "      <td>134.0</td>\n",
       "      <td>30.0</td>\n",
       "      <td>0.0</td>\n",
       "    </tr>\n",
       "    <tr>\n",
       "      <th>1</th>\n",
       "      <td>-60.0</td>\n",
       "      <td>-8.0</td>\n",
       "      <td>-6.0</td>\n",
       "      <td>37.0</td>\n",
       "      <td>134.0</td>\n",
       "      <td>30.0</td>\n",
       "      <td>0.0</td>\n",
       "    </tr>\n",
       "    <tr>\n",
       "      <th>2</th>\n",
       "      <td>-56.0</td>\n",
       "      <td>-9.0</td>\n",
       "      <td>-12.0</td>\n",
       "      <td>38.0</td>\n",
       "      <td>134.0</td>\n",
       "      <td>30.0</td>\n",
       "      <td>0.0</td>\n",
       "    </tr>\n",
       "    <tr>\n",
       "      <th>3</th>\n",
       "      <td>-63.0</td>\n",
       "      <td>-9.0</td>\n",
       "      <td>-12.0</td>\n",
       "      <td>37.0</td>\n",
       "      <td>134.0</td>\n",
       "      <td>30.0</td>\n",
       "      <td>0.0</td>\n",
       "    </tr>\n",
       "    <tr>\n",
       "      <th>4</th>\n",
       "      <td>-59.0</td>\n",
       "      <td>-8.0</td>\n",
       "      <td>-6.0</td>\n",
       "      <td>37.0</td>\n",
       "      <td>134.0</td>\n",
       "      <td>30.0</td>\n",
       "      <td>0.0</td>\n",
       "    </tr>\n",
       "  </tbody>\n",
       "</table>\n",
       "</div>"
      ],
      "text/plain": [
       "   RSSI  Ang_azimuth  Ang_elevacion  Canal  Altura_ant(cm)  \\\n",
       "0 -60.0         -9.0          -12.0   37.0           134.0   \n",
       "1 -60.0         -8.0           -6.0   37.0           134.0   \n",
       "2 -56.0         -9.0          -12.0   38.0           134.0   \n",
       "3 -63.0         -9.0          -12.0   37.0           134.0   \n",
       "4 -59.0         -8.0           -6.0   37.0           134.0   \n",
       "\n",
       "   Distancia_entre_ant_tag(cm)  Error_dato_medido  \n",
       "0                         30.0                0.0  \n",
       "1                         30.0                0.0  \n",
       "2                         30.0                0.0  \n",
       "3                         30.0                0.0  \n",
       "4                         30.0                0.0  "
      ]
     },
     "execution_count": 4,
     "metadata": {},
     "output_type": "execute_result"
    }
   ],
   "source": [
    "# Si nuestro archivo csv que estamos leyendo esta separado por comas\n",
    "df_train = pd.read_csv(\"Entrenamiento.csv\", encoding='utf-8', index_col = False, usecols = [3,4,5,6,8,9,11])\n",
    "\n",
    "# Corrige el error de lectura del archivo, pasa de string/objetc a float\n",
    "df_train = df_train.replace('[^\\d.]','', regex=True).astype(float) \n",
    "\n",
    "df_train.head()\n",
    "#df_train.info()\n"
   ]
  },
  {
   "cell_type": "code",
   "execution_count": null,
   "metadata": {},
   "outputs": [],
   "source": [
    "df_train.info()"
   ]
  },
  {
   "cell_type": "code",
   "execution_count": 5,
   "metadata": {},
   "outputs": [
    {
     "data": {
      "text/html": [
       "<div>\n",
       "<style scoped>\n",
       "    .dataframe tbody tr th:only-of-type {\n",
       "        vertical-align: middle;\n",
       "    }\n",
       "\n",
       "    .dataframe tbody tr th {\n",
       "        vertical-align: top;\n",
       "    }\n",
       "\n",
       "    .dataframe thead th {\n",
       "        text-align: right;\n",
       "    }\n",
       "</style>\n",
       "<table border=\"1\" class=\"dataframe\">\n",
       "  <thead>\n",
       "    <tr style=\"text-align: right;\">\n",
       "      <th></th>\n",
       "      <th>RSSI</th>\n",
       "      <th>Ang_azimuth</th>\n",
       "      <th>Ang_elevacion</th>\n",
       "      <th>Canal</th>\n",
       "      <th>Altura_ant(cm)</th>\n",
       "      <th>Distancia_entre_ant_tag(cm)</th>\n",
       "      <th>Error_dato_medido</th>\n",
       "    </tr>\n",
       "  </thead>\n",
       "  <tbody>\n",
       "    <tr>\n",
       "      <th>0</th>\n",
       "      <td>-54.0</td>\n",
       "      <td>-3.0</td>\n",
       "      <td>-26.0</td>\n",
       "      <td>38.0</td>\n",
       "      <td>134.0</td>\n",
       "      <td>90.0</td>\n",
       "      <td>0.0</td>\n",
       "    </tr>\n",
       "    <tr>\n",
       "      <th>1</th>\n",
       "      <td>-61.0</td>\n",
       "      <td>-3.0</td>\n",
       "      <td>-26.0</td>\n",
       "      <td>37.0</td>\n",
       "      <td>134.0</td>\n",
       "      <td>90.0</td>\n",
       "      <td>0.0</td>\n",
       "    </tr>\n",
       "    <tr>\n",
       "      <th>2</th>\n",
       "      <td>-54.0</td>\n",
       "      <td>-3.0</td>\n",
       "      <td>-26.0</td>\n",
       "      <td>38.0</td>\n",
       "      <td>134.0</td>\n",
       "      <td>90.0</td>\n",
       "      <td>0.0</td>\n",
       "    </tr>\n",
       "    <tr>\n",
       "      <th>3</th>\n",
       "      <td>-65.0</td>\n",
       "      <td>-3.0</td>\n",
       "      <td>-26.0</td>\n",
       "      <td>37.0</td>\n",
       "      <td>134.0</td>\n",
       "      <td>90.0</td>\n",
       "      <td>0.0</td>\n",
       "    </tr>\n",
       "    <tr>\n",
       "      <th>4</th>\n",
       "      <td>-54.0</td>\n",
       "      <td>-3.0</td>\n",
       "      <td>-26.0</td>\n",
       "      <td>38.0</td>\n",
       "      <td>134.0</td>\n",
       "      <td>90.0</td>\n",
       "      <td>0.0</td>\n",
       "    </tr>\n",
       "  </tbody>\n",
       "</table>\n",
       "</div>"
      ],
      "text/plain": [
       "   RSSI  Ang_azimuth  Ang_elevacion  Canal  Altura_ant(cm)  \\\n",
       "0 -54.0         -3.0          -26.0   38.0           134.0   \n",
       "1 -61.0         -3.0          -26.0   37.0           134.0   \n",
       "2 -54.0         -3.0          -26.0   38.0           134.0   \n",
       "3 -65.0         -3.0          -26.0   37.0           134.0   \n",
       "4 -54.0         -3.0          -26.0   38.0           134.0   \n",
       "\n",
       "   Distancia_entre_ant_tag(cm)  Error_dato_medido  \n",
       "0                         90.0                0.0  \n",
       "1                         90.0                0.0  \n",
       "2                         90.0                0.0  \n",
       "3                         90.0                0.0  \n",
       "4                         90.0                0.0  "
      ]
     },
     "execution_count": 5,
     "metadata": {},
     "output_type": "execute_result"
    }
   ],
   "source": [
    "df_test = pd.read_csv(\"Prueba.csv\", encoding ='utf-8',index_col = False, usecols = [3,4,5,6,8,9,11])\n",
    "df_test = df_test.replace('[^\\d.]','', regex=True).astype(float) \n",
    "df_test.head()"
   ]
  },
  {
   "cell_type": "code",
   "execution_count": null,
   "metadata": {},
   "outputs": [],
   "source": [
    "# Eliminando variables sin datos\n",
    "#df_train[df_train.Canal.isna()==True]"
   ]
  },
  {
   "cell_type": "code",
   "execution_count": null,
   "metadata": {},
   "outputs": [],
   "source": [
    "#df_test[df_test.Canal.isna()==True]"
   ]
  },
  {
   "cell_type": "code",
   "execution_count": null,
   "metadata": {},
   "outputs": [],
   "source": [
    "# observemos el tipo de los datos\n",
    "#df_train.dtypes"
   ]
  },
  {
   "cell_type": "code",
   "execution_count": null,
   "metadata": {},
   "outputs": [],
   "source": [
    "#df_test.dtypes"
   ]
  },
  {
   "cell_type": "markdown",
   "metadata": {},
   "source": [
    "Preparación de los datos"
   ]
  },
  {
   "cell_type": "code",
   "execution_count": 6,
   "metadata": {},
   "outputs": [],
   "source": [
    "# Escalamos los datos\n",
    "scaler = MinMaxScaler()\n",
    "scaler = scaler.fit(df_train)\n",
    "\n",
    "df_train[['RSSI','Ang_azimuth','Ang_elevacion','Canal','Altura_ant(cm)','Distancia_entre_ant_tag(cm)','Error_dato_medido']] = scaler.transform (df_train[['RSSI','Ang_azimuth','Ang_elevacion','Canal','Altura_ant(cm)','Distancia_entre_ant_tag(cm)','Error_dato_medido']])\n",
    "df_test[['RSSI','Ang_azimuth','Ang_elevacion','Canal','Altura_ant(cm)','Distancia_entre_ant_tag(cm)','Error_dato_medido']] = scaler.transform (df_test[['RSSI','Ang_azimuth','Ang_elevacion','Canal','Altura_ant(cm)','Distancia_entre_ant_tag(cm)','Error_dato_medido']])\n"
   ]
  },
  {
   "cell_type": "code",
   "execution_count": null,
   "metadata": {},
   "outputs": [],
   "source": [
    "df_test.head()"
   ]
  },
  {
   "cell_type": "code",
   "execution_count": 7,
   "metadata": {},
   "outputs": [],
   "source": [
    "\n",
    "df_train_x = df_train.drop(['Error_dato_medido'],axis=1)\n",
    "df_train_y = df_train.drop(['RSSI','Ang_azimuth','Ang_elevacion','Canal','Altura_ant(cm)','Distancia_entre_ant_tag(cm)'],axis=1)\n",
    "\n",
    "df_test_x = df_test.drop(['Error_dato_medido'],axis=1)\n",
    "df_test_y = df_test.drop(['RSSI','Ang_azimuth','Ang_elevacion','Canal','Altura_ant(cm)','Distancia_entre_ant_tag(cm)'],axis=1)\n",
    "\n"
   ]
  },
  {
   "cell_type": "code",
   "execution_count": 8,
   "metadata": {},
   "outputs": [],
   "source": [
    "# Creamos el dataset\n",
    "def create_dataset (X, y, times_steps = 1):\n",
    "    Xs, ys = [],[]\n",
    "    for i in range(len(X)- times_steps):\n",
    "        v = X.iloc[i:(i+ times_steps)].values\n",
    "        Xs.append(v)\n",
    "        ys.append(y.iloc[i+ times_steps])\n",
    "    return np.array(Xs), np.array(ys)"
   ]
  },
  {
   "cell_type": "code",
   "execution_count": 9,
   "metadata": {},
   "outputs": [
    {
     "name": "stdout",
     "output_type": "stream",
     "text": [
      "(20213, 40, 6) (20213, 1)\n"
     ]
    }
   ],
   "source": [
    "time_steps = 40\n",
    "\n",
    "X_train , y_train = create_dataset(df_train_x, df_train_y,time_steps)\n",
    "X_test , y_test = create_dataset(df_test_x, df_test_y,time_steps)\n",
    "\n",
    "print(X_train.shape,y_train.shape)"
   ]
  },
  {
   "cell_type": "code",
   "execution_count": null,
   "metadata": {},
   "outputs": [],
   "source": [
    "print(X_test.shape,y_test.shape)"
   ]
  },
  {
   "cell_type": "markdown",
   "metadata": {},
   "source": [
    "Creación y entrenamiento del modelo"
   ]
  },
  {
   "cell_type": "code",
   "execution_count": null,
   "metadata": {},
   "outputs": [],
   "source": [
    "# # Red neuronal, regresión lineal sencilla\n",
    "\n",
    "# oculta1 = tf.keras.layers.Dense(units = 64, input_shape = (X_train.shape[1], X_train.shape[2]))\n",
    "# oculta2 = tf.keras.layers.Dense(units = 64)\n",
    "# salida = tf.keras.layers.Dense(units = 1)\n",
    "# modelo = tf.keras.Sequential([oculta1, oculta2, salida])\n",
    "\n",
    "# modelo.compile(\n",
    "#     loss = \"mean_squared_error\", #tf.losses.MeanSquaredError(),\n",
    "#     optimizer = tf.keras.optimizers.Adam(0.001)\n",
    "# )"
   ]
  },
  {
   "cell_type": "code",
   "execution_count": null,
   "metadata": {},
   "outputs": [],
   "source": [
    "# # Si no mejora lo vamos a desconectar\n",
    "# callback = tf.keras.callbacks.EarlyStopping(monitor='loss', patience = 3)"
   ]
  },
  {
   "cell_type": "code",
   "execution_count": null,
   "metadata": {},
   "outputs": [],
   "source": [
    "# history = modelo.fit(\n",
    "#     X_train,\n",
    "#     y_train,\n",
    "#     epochs = 10,   #10 iteraciones\n",
    "#     batch_size = 64,\n",
    "#     validation_split = 0.2, # esto es para que use el 20% de los datos para validación\n",
    "#     verbose = 1, #para que nos muestre los datos\n",
    "#     #shuffle = False, #En sistemas temporales esto si es importante decirle que no mezcle los datos\n",
    "#     callbacks = [callback]\n",
    "\n",
    "# )"
   ]
  },
  {
   "cell_type": "code",
   "execution_count": 10,
   "metadata": {},
   "outputs": [],
   "source": [
    "from matplotlib import pyplot as plt"
   ]
  },
  {
   "cell_type": "code",
   "execution_count": null,
   "metadata": {},
   "outputs": [],
   "source": [
    "# plt.plot(history.history['loss'], label = 'Training loss')\n",
    "# plt.plot(history.history['val_loss'], label = 'Validation loss')\n",
    "# plt.legend()"
   ]
  },
  {
   "cell_type": "code",
   "execution_count": null,
   "metadata": {},
   "outputs": [],
   "source": [
    "# # Queremos hacer una predicción\n",
    "\n",
    "# y_pred = modelo.predict(X_test)\n"
   ]
  },
  {
   "cell_type": "code",
   "execution_count": null,
   "metadata": {},
   "outputs": [],
   "source": [
    "# plt.plot(y_test, label = 'Real')\n",
    "# plt.plot(y_pred[:,1], label = 'Predicted')\n",
    "# plt.legend()"
   ]
  },
  {
   "cell_type": "code",
   "execution_count": null,
   "metadata": {},
   "outputs": [],
   "source": [
    "# # Red neuronal, regresión lineal sencilla\n",
    "\n",
    "# oculta1 = tf.keras.layers.Dense(units = 128, input_shape = (X_train.shape[1], X_train.shape[2]))\n",
    "# oculta2 = tf.keras.layers.Dense(units = 64, activation = 'relu')\n",
    "# oculta3 = tf.keras.layers.Dense(units = 128, activation = 'relu')\n",
    "# salida = tf.keras.layers.Dense(units = 1, activation = 'sigmoid')\n",
    "# modelo_2 = tf.keras.Sequential([oculta1, oculta2, oculta3, salida])\n",
    "\n",
    "# modelo_2.compile(\n",
    "#     loss = \"mean_squared_error\",\n",
    "#     optimizer = tf.keras.optimizers.Adam(0.001)\n",
    "# )"
   ]
  },
  {
   "cell_type": "code",
   "execution_count": 11,
   "metadata": {},
   "outputs": [],
   "source": [
    "# # Si no mejora lo vamos a desconectar\n",
    "callback = tf.keras.callbacks.EarlyStopping(monitor='loss', patience = 20)"
   ]
  },
  {
   "cell_type": "code",
   "execution_count": null,
   "metadata": {},
   "outputs": [],
   "source": [
    "# history = modelo_2.fit(\n",
    "#     X_train,\n",
    "#     y_train,\n",
    "#     epochs = 10,   #10 iteraciones\n",
    "#     batch_size = 64,\n",
    "#     validation_split = 0.2, # esto es para que use el 20% de los datos para validación\n",
    "#     verbose = 1, #para que nos muestre los datos\n",
    "#     #shuffle = False, #En sistemas temporales esto si es importante decirle que no mezcle los datos\n",
    "#     callbacks = [callback]\n",
    "\n",
    "# )"
   ]
  },
  {
   "cell_type": "code",
   "execution_count": null,
   "metadata": {},
   "outputs": [],
   "source": [
    "# plt.plot(history.history['loss'], label = 'Training loss')\n",
    "# plt.plot(history.history['val_loss'], label = 'Validation loss')\n",
    "# plt.legend()"
   ]
  },
  {
   "cell_type": "code",
   "execution_count": null,
   "metadata": {},
   "outputs": [],
   "source": [
    "# y_pred = modelo_2.predict(X_test)"
   ]
  },
  {
   "cell_type": "code",
   "execution_count": null,
   "metadata": {},
   "outputs": [],
   "source": [
    "# plt.plot(y_test, label = 'Real')\n",
    "# plt.plot(y_pred[:,1], label = 'Predicted')\n",
    "# plt.legend()"
   ]
  },
  {
   "cell_type": "markdown",
   "metadata": {},
   "source": [
    "Nueva red"
   ]
  },
  {
   "cell_type": "code",
   "execution_count": null,
   "metadata": {},
   "outputs": [],
   "source": [
    "X_train.shape[2]"
   ]
  },
  {
   "cell_type": "code",
   "execution_count": 12,
   "metadata": {},
   "outputs": [
    {
     "name": "stderr",
     "output_type": "stream",
     "text": [
      "Using TensorFlow backend.\n"
     ]
    }
   ],
   "source": [
    "from keras.models import Sequential\n",
    "from keras.layers import MaxPooling2D, Dropout, Dense, Flatten\n",
    "from keras.layers import Convolution2D as Conv2D\n"
   ]
  },
  {
   "cell_type": "code",
   "execution_count": 13,
   "metadata": {},
   "outputs": [],
   "source": [
    "# Red neuronal, regresión lineal sencilla\n",
    "\n",
    "modelo_3 = Sequential()\n",
    "modelo_3.add(Conv2D(3,(5,5), activation = 'relu', input_shape =(X_train.shape[1],X_train.shape[2],1)))\n",
    "modelo_3.add(MaxPooling2D(pool_size = (3,2)))\n",
    "\n",
    "modelo_3.add(Flatten())\n",
    "modelo_3.add(Dense(32, activation = 'relu'))\n",
    "modelo_3.add(Dropout(0.5))\n",
    "modelo_3.add(Dense(1,activation = 'sigmoid'))\n",
    "\n",
    "#Error when checking input: expected conv2d_2_input to have 4 dimensions, but got array with shape (20034, 720, 6)\n",
    "\n",
    "#oculta1 = tf.keras.layers.Dense(units = 128, activation = 'relu', input_shape = (X_train.shape[1], X_train.shape[2]))\n",
    "#oculta2 = tf.keras.layers.Dense(units = 64, activation = 'relu')\n",
    "#oculta3 = tf.keras.layers.Dense(units = 128, activation = 'relu')\n",
    "#salida = tf.keras.layers.Dense(units = 1, activation = 'sigmoid')\n",
    "#modelo_3 = tf.keras.Sequential([oculta1, oculta2, oculta3, salida])\n",
    "\n",
    "\t\n",
    "modelo_3.compile(optimizer='sgd', loss='mean_squared_error',metrics=['accuracy'])\n",
    "\n",
    "#modelo_3.compile(\n",
    "#    loss = \"mean_squared_error\",\n",
    "#    optimizer = tf.keras.optimizers.Adam(0.001)\n",
    "#)"
   ]
  },
  {
   "cell_type": "code",
   "execution_count": null,
   "metadata": {},
   "outputs": [],
   "source": [
    "modelo_3.summary()"
   ]
  },
  {
   "cell_type": "code",
   "execution_count": 14,
   "metadata": {},
   "outputs": [],
   "source": [
    "X_train = np.expand_dims(X_train, -1)\n",
    "X_test = np.expand_dims(X_test, -1)"
   ]
  },
  {
   "cell_type": "code",
   "execution_count": 15,
   "metadata": {},
   "outputs": [
    {
     "name": "stdout",
     "output_type": "stream",
     "text": [
      "Train on 18191 samples, validate on 2022 samples\n",
      "Epoch 1/150\n",
      "18191/18191 [==============================] - 9s 511us/step - loss: 0.2496 - accuracy: 0.5325 - val_loss: 0.2478 - val_accuracy: 0.5816\n",
      "Epoch 2/150\n",
      "18191/18191 [==============================] - 4s 239us/step - loss: 0.2491 - accuracy: 0.5340 - val_loss: 0.2467 - val_accuracy: 0.5816\n",
      "Epoch 3/150\n",
      "18191/18191 [==============================] - 4s 220us/step - loss: 0.2489 - accuracy: 0.5340 - val_loss: 0.2463 - val_accuracy: 0.5816\n",
      "Epoch 4/150\n",
      "18191/18191 [==============================] - 4s 220us/step - loss: 0.2489 - accuracy: 0.5340 - val_loss: 0.2460 - val_accuracy: 0.5816\n",
      "Epoch 5/150\n",
      "18191/18191 [==============================] - 3s 171us/step - loss: 0.2488 - accuracy: 0.5340 - val_loss: 0.2459 - val_accuracy: 0.5816\n",
      "Epoch 6/150\n",
      "18191/18191 [==============================] - 3s 189us/step - loss: 0.2489 - accuracy: 0.5340 - val_loss: 0.2459 - val_accuracy: 0.5816\n",
      "Epoch 7/150\n",
      "18191/18191 [==============================] - 3s 170us/step - loss: 0.2489 - accuracy: 0.5340 - val_loss: 0.2459 - val_accuracy: 0.5816\n",
      "Epoch 8/150\n",
      "18191/18191 [==============================] - 3s 163us/step - loss: 0.2489 - accuracy: 0.5340 - val_loss: 0.2459 - val_accuracy: 0.5816\n",
      "Epoch 9/150\n",
      "18191/18191 [==============================] - 5s 249us/step - loss: 0.2489 - accuracy: 0.5340 - val_loss: 0.2459 - val_accuracy: 0.5816\n",
      "Epoch 10/150\n",
      "18191/18191 [==============================] - 5s 250us/step - loss: 0.2489 - accuracy: 0.5340 - val_loss: 0.2458 - val_accuracy: 0.5816\n",
      "Epoch 11/150\n",
      "18191/18191 [==============================] - 3s 171us/step - loss: 0.2489 - accuracy: 0.5340 - val_loss: 0.2458 - val_accuracy: 0.5816\n",
      "Epoch 12/150\n",
      "18191/18191 [==============================] - 3s 190us/step - loss: 0.2489 - accuracy: 0.5340 - val_loss: 0.2458 - val_accuracy: 0.5816\n",
      "Epoch 13/150\n",
      "18191/18191 [==============================] - 5s 253us/step - loss: 0.2489 - accuracy: 0.5340 - val_loss: 0.2458 - val_accuracy: 0.5816\n",
      "Epoch 14/150\n",
      "18191/18191 [==============================] - 5s 255us/step - loss: 0.2489 - accuracy: 0.5340 - val_loss: 0.2459 - val_accuracy: 0.5816\n",
      "Epoch 15/150\n",
      "18191/18191 [==============================] - 4s 225us/step - loss: 0.2489 - accuracy: 0.5340 - val_loss: 0.2459 - val_accuracy: 0.5816\n",
      "Epoch 16/150\n",
      "18191/18191 [==============================] - 4s 195us/step - loss: 0.2489 - accuracy: 0.5340 - val_loss: 0.2459 - val_accuracy: 0.5816\n",
      "Epoch 17/150\n",
      "18191/18191 [==============================] - 3s 168us/step - loss: 0.2488 - accuracy: 0.5340 - val_loss: 0.2459 - val_accuracy: 0.5816\n",
      "Epoch 18/150\n",
      "18191/18191 [==============================] - 3s 156us/step - loss: 0.2488 - accuracy: 0.5340 - val_loss: 0.2457 - val_accuracy: 0.5816\n",
      "Epoch 19/150\n",
      "18191/18191 [==============================] - 3s 184us/step - loss: 0.2489 - accuracy: 0.5340 - val_loss: 0.2458 - val_accuracy: 0.5816\n",
      "Epoch 20/150\n",
      "18191/18191 [==============================] - 4s 207us/step - loss: 0.2488 - accuracy: 0.5340 - val_loss: 0.2458 - val_accuracy: 0.5816\n",
      "Epoch 21/150\n",
      "18191/18191 [==============================] - 3s 145us/step - loss: 0.2489 - accuracy: 0.5340 - val_loss: 0.2458 - val_accuracy: 0.5816\n",
      "Epoch 22/150\n",
      "18191/18191 [==============================] - 5s 248us/step - loss: 0.2489 - accuracy: 0.5340 - val_loss: 0.2458 - val_accuracy: 0.5816\n",
      "Epoch 23/150\n",
      "18191/18191 [==============================] - 5s 259us/step - loss: 0.2489 - accuracy: 0.5340 - val_loss: 0.2458 - val_accuracy: 0.5816\n",
      "Epoch 24/150\n",
      "18191/18191 [==============================] - 3s 170us/step - loss: 0.2489 - accuracy: 0.5340 - val_loss: 0.2458 - val_accuracy: 0.5816\n",
      "Epoch 25/150\n",
      "18191/18191 [==============================] - 3s 174us/step - loss: 0.2489 - accuracy: 0.5340 - val_loss: 0.2458 - val_accuracy: 0.5816\n",
      "Epoch 26/150\n",
      "18191/18191 [==============================] - 4s 244us/step - loss: 0.2488 - accuracy: 0.5340 - val_loss: 0.2457 - val_accuracy: 0.5816\n",
      "Epoch 27/150\n",
      "18191/18191 [==============================] - 4s 241us/step - loss: 0.2489 - accuracy: 0.5340 - val_loss: 0.2457 - val_accuracy: 0.5816\n",
      "Epoch 28/150\n",
      "18191/18191 [==============================] - 5s 248us/step - loss: 0.2489 - accuracy: 0.5340 - val_loss: 0.2458 - val_accuracy: 0.5816\n",
      "Epoch 29/150\n",
      "18191/18191 [==============================] - 4s 241us/step - loss: 0.2489 - accuracy: 0.5340 - val_loss: 0.2458 - val_accuracy: 0.5816\n",
      "Epoch 30/150\n",
      "18191/18191 [==============================] - 4s 221us/step - loss: 0.2489 - accuracy: 0.5340 - val_loss: 0.2458 - val_accuracy: 0.5816\n",
      "Epoch 31/150\n",
      "18191/18191 [==============================] - 5s 253us/step - loss: 0.2489 - accuracy: 0.5340 - val_loss: 0.2458 - val_accuracy: 0.5816\n",
      "Epoch 32/150\n",
      "18191/18191 [==============================] - 4s 242us/step - loss: 0.2489 - accuracy: 0.5340 - val_loss: 0.2457 - val_accuracy: 0.5816\n",
      "Epoch 33/150\n",
      "18191/18191 [==============================] - 3s 170us/step - loss: 0.2488 - accuracy: 0.5340 - val_loss: 0.2456 - val_accuracy: 0.5816\n",
      "Epoch 34/150\n",
      "18191/18191 [==============================] - 4s 228us/step - loss: 0.2488 - accuracy: 0.5340 - val_loss: 0.2457 - val_accuracy: 0.5816\n",
      "Epoch 35/150\n",
      "18191/18191 [==============================] - 3s 145us/step - loss: 0.2489 - accuracy: 0.5340 - val_loss: 0.2457 - val_accuracy: 0.5816\n",
      "Epoch 36/150\n",
      "18191/18191 [==============================] - 4s 247us/step - loss: 0.2489 - accuracy: 0.5340 - val_loss: 0.2457 - val_accuracy: 0.5816\n",
      "Epoch 37/150\n",
      "18191/18191 [==============================] - 4s 245us/step - loss: 0.2489 - accuracy: 0.5340 - val_loss: 0.2457 - val_accuracy: 0.5816\n",
      "Epoch 38/150\n",
      "18191/18191 [==============================] - 3s 190us/step - loss: 0.2489 - accuracy: 0.5340 - val_loss: 0.2457 - val_accuracy: 0.5816\n",
      "Epoch 39/150\n",
      "18191/18191 [==============================] - 5s 253us/step - loss: 0.2488 - accuracy: 0.5340 - val_loss: 0.2457 - val_accuracy: 0.5816\n",
      "Epoch 40/150\n",
      "18191/18191 [==============================] - 3s 191us/step - loss: 0.2489 - accuracy: 0.5340 - val_loss: 0.2457 - val_accuracy: 0.5816\n",
      "Epoch 41/150\n",
      "18191/18191 [==============================] - 4s 212us/step - loss: 0.2489 - accuracy: 0.5340 - val_loss: 0.2457 - val_accuracy: 0.5816\n",
      "Epoch 42/150\n",
      "18191/18191 [==============================] - 4s 245us/step - loss: 0.2489 - accuracy: 0.5340 - val_loss: 0.2457 - val_accuracy: 0.5816\n",
      "Epoch 43/150\n",
      "18191/18191 [==============================] - 4s 230us/step - loss: 0.2489 - accuracy: 0.5340 - val_loss: 0.2457 - val_accuracy: 0.5816\n",
      "Epoch 44/150\n",
      "18191/18191 [==============================] - 5s 249us/step - loss: 0.2488 - accuracy: 0.5340 - val_loss: 0.2456 - val_accuracy: 0.5816\n",
      "Epoch 45/150\n",
      "18191/18191 [==============================] - 3s 163us/step - loss: 0.2488 - accuracy: 0.5340 - val_loss: 0.2457 - val_accuracy: 0.5816\n",
      "Epoch 46/150\n",
      "18191/18191 [==============================] - 4s 240us/step - loss: 0.2488 - accuracy: 0.5340 - val_loss: 0.2457 - val_accuracy: 0.5816\n",
      "Epoch 47/150\n",
      "18191/18191 [==============================] - 5s 250us/step - loss: 0.2489 - accuracy: 0.5340 - val_loss: 0.2457 - val_accuracy: 0.5816\n",
      "Epoch 48/150\n",
      "18191/18191 [==============================] - 4s 242us/step - loss: 0.2489 - accuracy: 0.5340 - val_loss: 0.2457 - val_accuracy: 0.5816\n",
      "Epoch 49/150\n",
      "18191/18191 [==============================] - 5s 249us/step - loss: 0.2489 - accuracy: 0.5340 - val_loss: 0.2457 - val_accuracy: 0.5816\n",
      "Epoch 50/150\n",
      "18191/18191 [==============================] - 4s 201us/step - loss: 0.2489 - accuracy: 0.5340 - val_loss: 0.2457 - val_accuracy: 0.5816\n",
      "Epoch 51/150\n",
      "18191/18191 [==============================] - 4s 241us/step - loss: 0.2489 - accuracy: 0.5340 - val_loss: 0.2457 - val_accuracy: 0.5816\n",
      "Epoch 52/150\n",
      "18191/18191 [==============================] - 4s 246us/step - loss: 0.2489 - accuracy: 0.5340 - val_loss: 0.2457 - val_accuracy: 0.5816\n",
      "Epoch 53/150\n",
      "18191/18191 [==============================] - 5s 248us/step - loss: 0.2489 - accuracy: 0.5340 - val_loss: 0.2457 - val_accuracy: 0.5816\n",
      "Epoch 54/150\n",
      "18191/18191 [==============================] - 4s 247us/step - loss: 0.2488 - accuracy: 0.5340 - val_loss: 0.2456 - val_accuracy: 0.5816\n",
      "Epoch 55/150\n",
      "18191/18191 [==============================] - 4s 212us/step - loss: 0.2489 - accuracy: 0.5340 - val_loss: 0.2456 - val_accuracy: 0.5816\n",
      "Epoch 56/150\n",
      "18191/18191 [==============================] - 4s 227us/step - loss: 0.2488 - accuracy: 0.5340 - val_loss: 0.2456 - val_accuracy: 0.5816\n",
      "Epoch 57/150\n",
      "18191/18191 [==============================] - 4s 245us/step - loss: 0.2488 - accuracy: 0.5340 - val_loss: 0.2457 - val_accuracy: 0.5816\n",
      "Epoch 58/150\n",
      "18191/18191 [==============================] - 4s 198us/step - loss: 0.2489 - accuracy: 0.5340 - val_loss: 0.2457 - val_accuracy: 0.5816\n",
      "Epoch 59/150\n",
      "18191/18191 [==============================] - 5s 255us/step - loss: 0.2489 - accuracy: 0.5340 - val_loss: 0.2457 - val_accuracy: 0.5816\n",
      "Epoch 60/150\n",
      "18191/18191 [==============================] - 3s 160us/step - loss: 0.2488 - accuracy: 0.5340 - val_loss: 0.2456 - val_accuracy: 0.5816\n",
      "Epoch 61/150\n",
      "18191/18191 [==============================] - 3s 146us/step - loss: 0.2489 - accuracy: 0.5340 - val_loss: 0.2457 - val_accuracy: 0.5816\n",
      "Epoch 62/150\n",
      "18191/18191 [==============================] - 4s 203us/step - loss: 0.2488 - accuracy: 0.5340 - val_loss: 0.2457 - val_accuracy: 0.5816\n",
      "Epoch 63/150\n",
      "18191/18191 [==============================] - 3s 166us/step - loss: 0.2489 - accuracy: 0.5340 - val_loss: 0.2458 - val_accuracy: 0.5816\n",
      "Epoch 64/150\n",
      "18191/18191 [==============================] - 4s 221us/step - loss: 0.2489 - accuracy: 0.5340 - val_loss: 0.2458 - val_accuracy: 0.5816\n",
      "Epoch 65/150\n",
      "18191/18191 [==============================] - 3s 191us/step - loss: 0.2488 - accuracy: 0.5340 - val_loss: 0.2458 - val_accuracy: 0.5816\n",
      "Epoch 66/150\n",
      "18191/18191 [==============================] - 3s 166us/step - loss: 0.2489 - accuracy: 0.5340 - val_loss: 0.2457 - val_accuracy: 0.5816\n",
      "Epoch 67/150\n",
      "18191/18191 [==============================] - 4s 221us/step - loss: 0.2489 - accuracy: 0.5340 - val_loss: 0.2457 - val_accuracy: 0.5816\n",
      "Epoch 68/150\n",
      "18191/18191 [==============================] - 5s 253us/step - loss: 0.2489 - accuracy: 0.5340 - val_loss: 0.2457 - val_accuracy: 0.5816\n",
      "Epoch 69/150\n",
      "18191/18191 [==============================] - 4s 193us/step - loss: 0.2489 - accuracy: 0.5340 - val_loss: 0.2457 - val_accuracy: 0.5816\n",
      "Epoch 70/150\n",
      "18191/18191 [==============================] - 4s 244us/step - loss: 0.2488 - accuracy: 0.5340 - val_loss: 0.2457 - val_accuracy: 0.5816\n",
      "Epoch 71/150\n",
      "18191/18191 [==============================] - 3s 187us/step - loss: 0.2488 - accuracy: 0.5340 - val_loss: 0.2456 - val_accuracy: 0.5816\n",
      "Epoch 72/150\n",
      "18191/18191 [==============================] - 4s 218us/step - loss: 0.2489 - accuracy: 0.5340 - val_loss: 0.2457 - val_accuracy: 0.5816\n",
      "Epoch 73/150\n",
      "18191/18191 [==============================] - 4s 220us/step - loss: 0.2488 - accuracy: 0.5340 - val_loss: 0.2457 - val_accuracy: 0.5816\n",
      "Epoch 74/150\n",
      "18191/18191 [==============================] - 4s 241us/step - loss: 0.2489 - accuracy: 0.5340 - val_loss: 0.2458 - val_accuracy: 0.5816\n",
      "Epoch 75/150\n",
      "18191/18191 [==============================] - 4s 221us/step - loss: 0.2488 - accuracy: 0.5340 - val_loss: 0.2457 - val_accuracy: 0.5816\n",
      "Epoch 76/150\n",
      "18191/18191 [==============================] - 3s 183us/step - loss: 0.2488 - accuracy: 0.5340 - val_loss: 0.2457 - val_accuracy: 0.5816\n",
      "Epoch 77/150\n",
      "18191/18191 [==============================] - 2s 136us/step - loss: 0.2489 - accuracy: 0.5340 - val_loss: 0.2457 - val_accuracy: 0.5816\n",
      "Epoch 78/150\n",
      "18191/18191 [==============================] - 4s 244us/step - loss: 0.2488 - accuracy: 0.5340 - val_loss: 0.2457 - val_accuracy: 0.5816\n",
      "Epoch 79/150\n",
      "18191/18191 [==============================] - 2s 131us/step - loss: 0.2488 - accuracy: 0.5340 - val_loss: 0.2458 - val_accuracy: 0.5816\n",
      "Epoch 80/150\n",
      "18191/18191 [==============================] - 3s 161us/step - loss: 0.2489 - accuracy: 0.5340 - val_loss: 0.2457 - val_accuracy: 0.5816\n",
      "Epoch 81/150\n",
      "18191/18191 [==============================] - 5s 268us/step - loss: 0.2488 - accuracy: 0.5340 - val_loss: 0.2456 - val_accuracy: 0.5816\n",
      "Epoch 82/150\n",
      "18191/18191 [==============================] - 4s 230us/step - loss: 0.2488 - accuracy: 0.5340 - val_loss: 0.2457 - val_accuracy: 0.5816\n",
      "Epoch 83/150\n",
      "18191/18191 [==============================] - 3s 174us/step - loss: 0.2489 - accuracy: 0.5340 - val_loss: 0.2456 - val_accuracy: 0.5816\n",
      "Epoch 84/150\n",
      "18191/18191 [==============================] - 3s 169us/step - loss: 0.2489 - accuracy: 0.5340 - val_loss: 0.2457 - val_accuracy: 0.5816\n",
      "Epoch 85/150\n",
      "18191/18191 [==============================] - 3s 170us/step - loss: 0.2489 - accuracy: 0.5340 - val_loss: 0.2457 - val_accuracy: 0.5816\n",
      "Epoch 86/150\n",
      "18191/18191 [==============================] - 3s 157us/step - loss: 0.2489 - accuracy: 0.5340 - val_loss: 0.2457 - val_accuracy: 0.5816\n",
      "Epoch 87/150\n",
      "18191/18191 [==============================] - 3s 142us/step - loss: 0.2489 - accuracy: 0.5340 - val_loss: 0.2457 - val_accuracy: 0.5816\n",
      "Epoch 88/150\n",
      "18191/18191 [==============================] - 4s 204us/step - loss: 0.2488 - accuracy: 0.5340 - val_loss: 0.2457 - val_accuracy: 0.5816\n",
      "Epoch 89/150\n",
      "18191/18191 [==============================] - 3s 175us/step - loss: 0.2488 - accuracy: 0.5340 - val_loss: 0.2457 - val_accuracy: 0.5816\n",
      "Epoch 90/150\n",
      "18191/18191 [==============================] - 5s 266us/step - loss: 0.2489 - accuracy: 0.5340 - val_loss: 0.2457 - val_accuracy: 0.5816\n",
      "Epoch 91/150\n",
      "18191/18191 [==============================] - 3s 174us/step - loss: 0.2489 - accuracy: 0.5340 - val_loss: 0.2457 - val_accuracy: 0.5816\n",
      "Epoch 92/150\n",
      "18191/18191 [==============================] - 3s 171us/step - loss: 0.2488 - accuracy: 0.5340 - val_loss: 0.2457 - val_accuracy: 0.5816\n",
      "Epoch 93/150\n",
      "18191/18191 [==============================] - 4s 244us/step - loss: 0.2489 - accuracy: 0.5340 - val_loss: 0.2457 - val_accuracy: 0.5816\n",
      "Epoch 94/150\n",
      "18191/18191 [==============================] - 4s 245us/step - loss: 0.2489 - accuracy: 0.5340 - val_loss: 0.2457 - val_accuracy: 0.5816\n",
      "Epoch 95/150\n",
      "18191/18191 [==============================] - 4s 246us/step - loss: 0.2489 - accuracy: 0.5340 - val_loss: 0.2457 - val_accuracy: 0.5816\n",
      "Epoch 96/150\n",
      "18191/18191 [==============================] - 4s 247us/step - loss: 0.2489 - accuracy: 0.5340 - val_loss: 0.2457 - val_accuracy: 0.5816\n",
      "Epoch 97/150\n",
      "18191/18191 [==============================] - 3s 170us/step - loss: 0.2489 - accuracy: 0.5340 - val_loss: 0.2457 - val_accuracy: 0.5816\n",
      "Epoch 98/150\n",
      "18191/18191 [==============================] - 5s 251us/step - loss: 0.2488 - accuracy: 0.5340 - val_loss: 0.2457 - val_accuracy: 0.5816\n",
      "Epoch 99/150\n",
      "18191/18191 [==============================] - 5s 257us/step - loss: 0.2489 - accuracy: 0.5340 - val_loss: 0.2457 - val_accuracy: 0.5816\n",
      "Epoch 100/150\n",
      "18191/18191 [==============================] - 3s 164us/step - loss: 0.2489 - accuracy: 0.5340 - val_loss: 0.2457 - val_accuracy: 0.5816\n",
      "Epoch 101/150\n",
      "18191/18191 [==============================] - 5s 250us/step - loss: 0.2489 - accuracy: 0.5340 - val_loss: 0.2457 - val_accuracy: 0.5816\n",
      "Epoch 102/150\n",
      "18191/18191 [==============================] - 4s 197us/step - loss: 0.2488 - accuracy: 0.5340 - val_loss: 0.2457 - val_accuracy: 0.5816\n",
      "Epoch 103/150\n",
      "18191/18191 [==============================] - 4s 246us/step - loss: 0.2489 - accuracy: 0.5340 - val_loss: 0.2457 - val_accuracy: 0.5816\n",
      "Epoch 104/150\n",
      "18191/18191 [==============================] - 4s 244us/step - loss: 0.2489 - accuracy: 0.5340 - val_loss: 0.2457 - val_accuracy: 0.5816\n",
      "Epoch 105/150\n",
      "18191/18191 [==============================] - 5s 256us/step - loss: 0.2489 - accuracy: 0.5340 - val_loss: 0.2457 - val_accuracy: 0.5816\n",
      "Epoch 106/150\n",
      "18191/18191 [==============================] - 4s 242us/step - loss: 0.2488 - accuracy: 0.5340 - val_loss: 0.2457 - val_accuracy: 0.5816\n",
      "Epoch 107/150\n",
      "18191/18191 [==============================] - 3s 189us/step - loss: 0.2489 - accuracy: 0.5340 - val_loss: 0.2457 - val_accuracy: 0.5816\n",
      "Epoch 108/150\n",
      "18191/18191 [==============================] - 4s 244us/step - loss: 0.2489 - accuracy: 0.5340 - val_loss: 0.2457 - val_accuracy: 0.5816\n",
      "Epoch 109/150\n",
      "18191/18191 [==============================] - 4s 246us/step - loss: 0.2489 - accuracy: 0.5340 - val_loss: 0.2457 - val_accuracy: 0.5816\n",
      "Epoch 110/150\n",
      "18191/18191 [==============================] - 3s 185us/step - loss: 0.2489 - accuracy: 0.5340 - val_loss: 0.2457 - val_accuracy: 0.5816\n",
      "Epoch 111/150\n",
      "18191/18191 [==============================] - 4s 193us/step - loss: 0.2488 - accuracy: 0.5340 - val_loss: 0.2457 - val_accuracy: 0.5816\n",
      "Epoch 112/150\n",
      "18191/18191 [==============================] - 4s 215us/step - loss: 0.2489 - accuracy: 0.5340 - val_loss: 0.2457 - val_accuracy: 0.5816\n",
      "Epoch 113/150\n",
      "18191/18191 [==============================] - 3s 167us/step - loss: 0.2489 - accuracy: 0.5340 - val_loss: 0.2457 - val_accuracy: 0.5816\n",
      "Epoch 114/150\n",
      "18191/18191 [==============================] - 4s 242us/step - loss: 0.2488 - accuracy: 0.5340 - val_loss: 0.2457 - val_accuracy: 0.5816\n",
      "Epoch 115/150\n",
      "18191/18191 [==============================] - 4s 212us/step - loss: 0.2489 - accuracy: 0.5340 - val_loss: 0.2457 - val_accuracy: 0.5816\n",
      "Epoch 116/150\n",
      "18191/18191 [==============================] - 4s 217us/step - loss: 0.2488 - accuracy: 0.5340 - val_loss: 0.2456 - val_accuracy: 0.5816\n",
      "Epoch 117/150\n",
      "18191/18191 [==============================] - 3s 173us/step - loss: 0.2488 - accuracy: 0.5340 - val_loss: 0.2456 - val_accuracy: 0.5816\n",
      "Epoch 118/150\n",
      "18191/18191 [==============================] - 4s 193us/step - loss: 0.2488 - accuracy: 0.5340 - val_loss: 0.2456 - val_accuracy: 0.5816\n",
      "Epoch 119/150\n",
      "18191/18191 [==============================] - 3s 169us/step - loss: 0.2489 - accuracy: 0.5340 - val_loss: 0.2456 - val_accuracy: 0.5816\n",
      "Epoch 120/150\n",
      "18191/18191 [==============================] - 4s 194us/step - loss: 0.2489 - accuracy: 0.5340 - val_loss: 0.2457 - val_accuracy: 0.5816\n",
      "Epoch 121/150\n",
      "18191/18191 [==============================] - 4s 247us/step - loss: 0.2488 - accuracy: 0.5340 - val_loss: 0.2457 - val_accuracy: 0.5816\n",
      "Epoch 122/150\n",
      "18191/18191 [==============================] - 5s 249us/step - loss: 0.2488 - accuracy: 0.5340 - val_loss: 0.2457 - val_accuracy: 0.5816\n",
      "Epoch 123/150\n",
      "18191/18191 [==============================] - 4s 225us/step - loss: 0.2489 - accuracy: 0.5340 - val_loss: 0.2457 - val_accuracy: 0.5816\n",
      "Epoch 124/150\n",
      "18191/18191 [==============================] - 3s 167us/step - loss: 0.2488 - accuracy: 0.5340 - val_loss: 0.2456 - val_accuracy: 0.5816\n",
      "Epoch 125/150\n",
      "18191/18191 [==============================] - 4s 209us/step - loss: 0.2488 - accuracy: 0.5340 - val_loss: 0.2456 - val_accuracy: 0.5816\n",
      "Epoch 126/150\n",
      "18191/18191 [==============================] - 5s 258us/step - loss: 0.2488 - accuracy: 0.5340 - val_loss: 0.2456 - val_accuracy: 0.5816\n",
      "Epoch 127/150\n",
      "18191/18191 [==============================] - 4s 246us/step - loss: 0.2489 - accuracy: 0.5340 - val_loss: 0.2456 - val_accuracy: 0.5816\n",
      "Epoch 128/150\n",
      "18191/18191 [==============================] - 5s 251us/step - loss: 0.2488 - accuracy: 0.5340 - val_loss: 0.2456 - val_accuracy: 0.5816\n",
      "Epoch 129/150\n",
      "18191/18191 [==============================] - 3s 158us/step - loss: 0.2489 - accuracy: 0.5340 - val_loss: 0.2456 - val_accuracy: 0.5816\n",
      "Epoch 130/150\n",
      "18191/18191 [==============================] - 3s 158us/step - loss: 0.2488 - accuracy: 0.5340 - val_loss: 0.2456 - val_accuracy: 0.5816\n",
      "Epoch 131/150\n",
      "18191/18191 [==============================] - 4s 244us/step - loss: 0.2489 - accuracy: 0.5340 - val_loss: 0.2457 - val_accuracy: 0.5816\n",
      "Epoch 132/150\n",
      "18191/18191 [==============================] - 5s 253us/step - loss: 0.2488 - accuracy: 0.5340 - val_loss: 0.2457 - val_accuracy: 0.5816\n",
      "Epoch 133/150\n",
      "18191/18191 [==============================] - 4s 246us/step - loss: 0.2488 - accuracy: 0.5340 - val_loss: 0.2457 - val_accuracy: 0.5816\n",
      "Epoch 134/150\n",
      "18191/18191 [==============================] - 4s 204us/step - loss: 0.2488 - accuracy: 0.5340 - val_loss: 0.2456 - val_accuracy: 0.5816\n",
      "Epoch 135/150\n",
      "18191/18191 [==============================] - 4s 245us/step - loss: 0.2489 - accuracy: 0.5340 - val_loss: 0.2456 - val_accuracy: 0.5816\n",
      "Epoch 136/150\n",
      "18191/18191 [==============================] - 4s 246us/step - loss: 0.2489 - accuracy: 0.5340 - val_loss: 0.2456 - val_accuracy: 0.5816\n",
      "Epoch 137/150\n",
      "18191/18191 [==============================] - 4s 224us/step - loss: 0.2489 - accuracy: 0.5340 - val_loss: 0.2456 - val_accuracy: 0.5816\n",
      "Epoch 138/150\n",
      "18191/18191 [==============================] - 5s 249us/step - loss: 0.2488 - accuracy: 0.5340 - val_loss: 0.2457 - val_accuracy: 0.5816\n",
      "Epoch 139/150\n",
      "18191/18191 [==============================] - 4s 209us/step - loss: 0.2488 - accuracy: 0.5340 - val_loss: 0.2457 - val_accuracy: 0.5816\n",
      "Epoch 140/150\n",
      "18191/18191 [==============================] - 4s 226us/step - loss: 0.2489 - accuracy: 0.5340 - val_loss: 0.2456 - val_accuracy: 0.5816\n",
      "Epoch 141/150\n",
      "18191/18191 [==============================] - 2s 127us/step - loss: 0.2489 - accuracy: 0.5340 - val_loss: 0.2456 - val_accuracy: 0.5816\n",
      "Epoch 142/150\n",
      "18191/18191 [==============================] - 4s 224us/step - loss: 0.2489 - accuracy: 0.5340 - val_loss: 0.2456 - val_accuracy: 0.5816\n",
      "Epoch 143/150\n",
      "18191/18191 [==============================] - 4s 201us/step - loss: 0.2488 - accuracy: 0.5340 - val_loss: 0.2456 - val_accuracy: 0.5816\n",
      "Epoch 144/150\n",
      "18191/18191 [==============================] - 4s 213us/step - loss: 0.2488 - accuracy: 0.5340 - val_loss: 0.2456 - val_accuracy: 0.5816\n",
      "Epoch 145/150\n",
      "18191/18191 [==============================] - 3s 189us/step - loss: 0.2488 - accuracy: 0.5340 - val_loss: 0.2456 - val_accuracy: 0.5816\n",
      "Epoch 146/150\n",
      "18191/18191 [==============================] - 5s 250us/step - loss: 0.2489 - accuracy: 0.5340 - val_loss: 0.2457 - val_accuracy: 0.5816\n",
      "Epoch 147/150\n",
      "18191/18191 [==============================] - 5s 249us/step - loss: 0.2489 - accuracy: 0.5340 - val_loss: 0.2457 - val_accuracy: 0.5816\n",
      "Epoch 148/150\n",
      "18191/18191 [==============================] - 3s 179us/step - loss: 0.2488 - accuracy: 0.5340 - val_loss: 0.2456 - val_accuracy: 0.5816\n",
      "Epoch 149/150\n",
      "18191/18191 [==============================] - 5s 254us/step - loss: 0.2488 - accuracy: 0.5340 - val_loss: 0.2456 - val_accuracy: 0.5816\n",
      "Epoch 150/150\n",
      "18191/18191 [==============================] - 4s 200us/step - loss: 0.2489 - accuracy: 0.5340 - val_loss: 0.2456 - val_accuracy: 0.5816\n"
     ]
    }
   ],
   "source": [
    "history = modelo_3.fit(\n",
    "    X_train,\n",
    "    y_train,\n",
    "    epochs = 150,   #10 iteraciones\n",
    "    batch_size = 64,\n",
    "    validation_split = 0.1, # esto es para que use el 20% de los datos para validación\n",
    "    verbose = 1#, #para que nos muestre los datos\n",
    "    #shuffle = False, #En sistemas temporales esto si es importante decirle que no mezcle los datos\n",
    "    #callbacks = [callback]\n",
    ")"
   ]
  },
  {
   "cell_type": "code",
   "execution_count": null,
   "metadata": {},
   "outputs": [],
   "source": [
    "import matplotlib as plt"
   ]
  },
  {
   "cell_type": "code",
   "execution_count": 17,
   "metadata": {},
   "outputs": [
    {
     "data": {
      "text/plain": [
       "<matplotlib.legend.Legend at 0x1338eedb5c8>"
      ]
     },
     "execution_count": 17,
     "metadata": {},
     "output_type": "execute_result"
    },
    {
     "data": {
      "image/png": "[encoded data removed]",
      "text/plain": [
       "<Figure size 640x480 with 1 Axes>"
      ]
     },
     "metadata": {},
     "output_type": "display_data"
    }
   ],
   "source": [
    "plt.plot(history.history['loss'], label = 'Training loss')\n",
    "plt.plot(history.history['val_loss'], label = 'Validation loss')\n",
    "plt.legend()"
   ]
  },
  {
   "cell_type": "code",
   "execution_count": 19,
   "metadata": {},
   "outputs": [],
   "source": [
    "y_pred = modelo_3.predict(X_test)"
   ]
  },
  {
   "cell_type": "code",
   "execution_count": 20,
   "metadata": {},
   "outputs": [
    {
     "data": {
      "text/plain": [
       "<matplotlib.legend.Legend at 0x13424f73e08>"
      ]
     },
     "execution_count": 20,
     "metadata": {},
     "output_type": "execute_result"
    },
    {
     "data": {
      "image/png": "[encoded data removed]",
      "text/plain": [
       "<Figure size 640x480 with 1 Axes>"
      ]
     },
     "metadata": {},
     "output_type": "display_data"
    }
   ],
   "source": [
    "plt.plot(y_test, label = 'Real')\n",
    "plt.plot(y_pred, label = 'Predicted')\n",
    "plt.legend()"
   ]
  },
  {
   "cell_type": "markdown",
   "metadata": {},
   "source": [
    "Graficar"
   ]
  },
  {
   "cell_type": "code",
   "execution_count": 21,
   "metadata": {},
   "outputs": [
    {
     "data": {
      "image/png": "[encoded data removed]",
      "text/plain": [
       "<Figure size 640x480 with 1 Axes>"
      ]
     },
     "metadata": {},
     "output_type": "display_data"
    }
   ],
   "source": [
    "plt.plot(history.history['accuracy'],'bo')\n",
    "plt.plot(history.history['val_accuracy'],'rX')\n",
    "plt.title('model accuracy')\n",
    "plt.ylabel('accuracy')\n",
    "plt.xlabel('epoch')\n",
    "plt.legend(['train','test'],loc='upper left')\n",
    "plt.grid()\n",
    "plt.show()\n",
    "\n"
   ]
  },
  {
   "cell_type": "code",
   "execution_count": 22,
   "metadata": {},
   "outputs": [
    {
     "data": {
      "image/png": "[encoded data removed]",
      "text/plain": [
       "<Figure size 640x480 with 1 Axes>"
      ]
     },
     "metadata": {},
     "output_type": "display_data"
    }
   ],
   "source": [
    "plt.plot(history.history['loss'],'bo')\n",
    "plt.plot(history.history['val_loss'],'rX')\n",
    "plt.title('model loss')\n",
    "plt.ylabel('loss')\n",
    "plt.xlabel('epoch')\n",
    "plt.legend(['train','test'],loc='upper left')\n",
    "plt.grid()\n",
    "plt.show()"
   ]
  },
  {
   "cell_type": "code",
   "execution_count": 23,
   "metadata": {},
   "outputs": [
    {
     "data": {
      "image/png": "[encoded data removed]",
      "text/plain": [
       "<Figure size 640x480 with 1 Axes>"
      ]
     },
     "metadata": {},
     "output_type": "display_data"
    }
   ],
   "source": [
    "plt.plot(history.history['accuracy'])\n",
    "plt.plot(history.history['val_accuracy'])\n",
    "plt.title('model accuracy')\n",
    "plt.ylabel('accuracy')\n",
    "plt.xlabel('epoch')\n",
    "plt.legend(['train','test'],loc='upper left')\n",
    "plt.grid()\n",
    "plt.show()"
   ]
  },
  {
   "cell_type": "code",
   "execution_count": null,
   "metadata": {},
   "outputs": [],
   "source": [
    "# scaler2 = MinMaxScaler()\n",
    "# scaler2.min_,scaler2.scale_ = scaler.min_[4],scaler.scale_[4]\n",
    "\n",
    "# trainPredict = scaler2.inverse_transform(trainPredict)\n",
    "# trainY = scaler2.inverse_transform([y_train])\n",
    "# testPredict = scaler2.inverse_transform(testPredict)\n",
    "# testY = scaler2.inverse_transform([y_test])"
   ]
  },
  {
   "cell_type": "code",
   "execution_count": 24,
   "metadata": {},
   "outputs": [
    {
     "name": "stdout",
     "output_type": "stream",
     "text": [
      "Modelo guardado en el PC\n"
     ]
    }
   ],
   "source": [
    "# Serializa el modelo para JSON\n",
    "model_JSON = modelo_3.to_json()\n",
    "name_json = \"model.json\"\n",
    "with open(name_json, \"w\") as json_file:\n",
    "    json_file.write(model_JSON)\n",
    "\n",
    "# Serializar los pesos (weights) para HDF5\n",
    "modelo_3.save_weights(\"model.h5\")\n",
    "print(\"Modelo guardado en el PC\")"
   ]
  },
  {
   "cell_type": "code",
   "execution_count": null,
   "metadata": {},
   "outputs": [],
   "source": [
    "# Modelo guardado en el PC\n",
    "from keras.models import model_from_json\n",
    "\n",
    "name_json = \"model.json\"\n",
    "\n",
    "# carga el json y crea el modelo\n",
    "json_file = open(name_json,'r')\n",
    "loaded_model_json = json_file.read()\n",
    "json_file.close()\n",
    "\n",
    "loaded_model = model_from_json(loaded_model_json)\n",
    "# se cargan los pesos (weights) en el nuevo modelo\n",
    "model = loaded_model.load_weights(\"model.h5\")\n",
    "print(\"Modelo cargado desde el PC\")\n",
    "# se evalua el modelo cargado con los datos de los test"
   ]
  },
  {
   "cell_type": "code",
   "execution_count": null,
   "metadata": {},
   "outputs": [],
   "source": [
    "modelo_3.save('LOS_20iteraciones_pc.h5')"
   ]
  },
  {
   "cell_type": "code",
   "execution_count": null,
   "metadata": {},
   "outputs": [],
   "source": [
    "# Serializa el modelo para JSON\n",
    "model_JSON = modelo_3.to_json()\n",
    "name_json = \"model.json\"\n",
    "with open(name_json, \"w\") as json_file:\n",
    "    json_file.write(model_JSON)\n",
    "\n",
    "# Serializar los pesos (weights) para HDF5\n",
    "modelo_3.save_weights(\"model.h5\")\n",
    "print(\"Modelo guardado en el PC\")\n",
    "\n"
   ]
  },
  {
   "cell_type": "code",
   "execution_count": null,
   "metadata": {},
   "outputs": [],
   "source": [
    "from keras.models import model_from_json"
   ]
  },
  {
   "cell_type": "code",
   "execution_count": null,
   "metadata": {},
   "outputs": [],
   "source": [
    "\n",
    "# carga el json y crea el modelo\n",
    "json_file = (name_json,'r')\n",
    "loaded_model_json = json_file.read()\n",
    "json_file.close()\n",
    "\n",
    "loaded_model = model_from_json(loaded_model_json)\n",
    "# se cargan los pesos (weights) en el nuevo modelo\n",
    "loaded_model.load_weights(\"model.h5\")\n",
    "print(\"Modelo cargado desde el PC\")\n",
    "# se evalua el modelo cargado con los datos de los test"
   ]
  }
 ],
 "metadata": {
  "kernelspec": {
   "display_name": "Python 3.7.15 ('entornoGPU')",
   "language": "python",
   "name": "python3"
  },
  "language_info": {
   "codemirror_mode": {
    "name": "ipython",
    "version": 3
   },
   "file_extension": ".py",
   "mimetype": "text/x-python",
   "name": "python",
   "nbconvert_exporter": "python",
   "pygments_lexer": "ipython3",
   "version": "3.7.15"
  },
  "orig_nbformat": 4,
  "vscode": {
   "interpreter": {
    "hash": "5e01bc2fcf1ab680f2d63bab9140364d7b87f3cb8f67ecb2af972e5631fc67bf"
   }
  }
 },
 "nbformat": 4,
 "nbformat_minor": 2
}
